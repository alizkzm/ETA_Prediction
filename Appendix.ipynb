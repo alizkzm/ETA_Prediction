{
  "nbformat": 4,
  "nbformat_minor": 0,
  "metadata": {
    "colab": {
      "name": "Test Predection.ipynb",
      "provenance": []
    },
    "kernelspec": {
      "name": "python3",
      "display_name": "Python 3"
    },
    "language_info": {
      "name": "python"
    }
  },
  "cells": [
    {
      "cell_type": "code",
      "execution_count": 1,
      "metadata": {
        "colab": {
          "base_uri": "https://localhost:8080/"
        },
        "id": "b84tHgGy-wMC",
        "outputId": "bb7c0e98-bce1-4478-a3d3-52d55c49557d"
      },
      "outputs": [
        {
          "output_type": "stream",
          "name": "stdout",
          "text": [
            "Requirement already satisfied: pyspark in /usr/local/lib/python3.7/dist-packages (3.2.1)\n",
            "Requirement already satisfied: py4j==0.10.9.3 in /usr/local/lib/python3.7/dist-packages (from pyspark) (0.10.9.3)\n",
            "openjdk-8-jdk-headless is already the newest version (8u312-b07-0ubuntu1~18.04).\n",
            "0 upgraded, 0 newly installed, 0 to remove and 40 not upgraded.\n"
          ]
        }
      ],
      "source": [
        "!pip install pyspark\n",
        "!pip install -U -q PyDrive\n",
        "!apt install openjdk-8-jdk-headless -qq\n",
        "import os\n",
        "os.environ[\"JAVA_HOME\"] = \"/usr/lib/jvm/java-8-openjdk-amd64\""
      ]
    },
    {
      "cell_type": "code",
      "source": [
        "import warnings\n",
        "warnings.filterwarnings(\"ignore\")\n",
        "import pandas as pd\n",
        "import numpy as np\n",
        "import matplotlib.pyplot as plt\n",
        "%matplotlib inline\n",
        "\n",
        "import pyspark\n",
        "from pyspark.sql import *\n",
        "from pyspark import SparkContext, SparkConf\n",
        "spark = SparkSession.builder.getOrCreate()\n",
        "\n",
        "import json\n",
        "import pyspark.sql.functions as F\n",
        "import pyspark.sql.types as T\n",
        "from datetime import datetime,timedelta,date\n",
        "from pyspark import SparkContext\n",
        "import ast\n",
        "from pyspark.sql import Window\n",
        "import seaborn as sns"
      ],
      "metadata": {
        "id": "51vxf2Vx-18g"
      },
      "execution_count": 2,
      "outputs": []
    },
    {
      "cell_type": "code",
      "source": [
        "data_location = pd.read_csv('/content/SERS_train.csv')\n",
        "data = pd.DataFrame(data_location)\n",
        "\n",
        "test =data.dropna()\n",
        "from pyspark.sql import SparkSession\n",
        "spark = SparkSession.builder \\\n",
        "    .master(\"local[1]\") \\\n",
        "    .appName(\"SparkByExamples.com\") \\\n",
        "    .getOrCreate()\n",
        "df_train = spark.createDataFrame(test) \n",
        "df_train.show(10,False)"
      ],
      "metadata": {
        "colab": {
          "base_uri": "https://localhost:8080/"
        },
        "id": "IseYYPnq-43J",
        "outputId": "2fa3093e-675a-44ad-df46-d9138b1df090"
      },
      "execution_count": 3,
      "outputs": [
        {
          "output_type": "stream",
          "name": "stdout",
          "text": [
            "+-------+--------+--------+---------------------+------+-------------+------------------+------+----------+----------+---------+----------+------------------+\n",
            "|edge_id|length  |way_type|way_name             |eta   |timestamp    |coverage          |ata   |latitude  |longitude |is_tunnel|user_group|way_segments_count|\n",
            "+-------+--------+--------+---------------------+------+-------------+------------------+------+----------+----------+---------+----------+------------------+\n",
            "|165    |36.713  |7       |توحیدی               |13.007|1641423595457|1.1149456595756022|7.475 |35.768834 |51.4694875|0.0      |B         |1                 |\n",
            "|286    |68.373  |7       |بوستان               |9.116 |1641188168444|0.9988050838781368|9.999 |35.8001555|51.4748499|0.0      |A         |1                 |\n",
            "|455    |76.896  |7       |آذر                  |6.291 |1642397104643|0.9697557740324592|7.004 |32.645556 |51.6593476|0.0      |A         |3                 |\n",
            "|455    |76.896  |7       |آذر                  |6.291 |1642248357955|0.8830849459009574|6.499 |32.645556 |51.6593476|0.0      |A         |1                 |\n",
            "|624    |869.709 |9       |جاده شاهین شهر - میمه|38.182|1642592984805|0.9694518511364142|31.984|32.9273571|51.5172039|0.0      |A         |2                 |\n",
            "|1933   |609.71  |6       |شهدای اسلامی         |49.885|1641822600562|0.9911105771596332|40.512|35.6646162|51.2939361|0.0      |A         |1                 |\n",
            "|2114   |1295.522|9       |بلوار سردار سلیمانی  |67.592|1641180015976|0.978333829915663 |65.994|32.8076558|51.6030575|0.0      |B         |1                 |\n",
            "|2786   |70.331  |3       |امام خمینی           |10.549|1642097287913|0.9497490438071416|7.008 |32.8610878|51.5457812|0.0      |A         |1                 |\n",
            "|2786   |70.331  |3       |امام خمینی           |8.167 |1642704886845|0.925996217884006 |7.998 |32.8610878|51.5457812|0.0      |B         |2                 |\n",
            "|2793   |146.301 |7       |بیمارستان            |13.167|1641751443297|0.9065331064039194|13.996|32.8969697|51.5341962|0.0      |A         |1                 |\n",
            "+-------+--------+--------+---------------------+------+-------------+------------------+------+----------+----------+---------+----------+------------------+\n",
            "only showing top 10 rows\n",
            "\n"
          ]
        }
      ]
    },
    {
      "cell_type": "code",
      "source": [
        "df_train.groupBy('user_group').agg(F.count(F.lit(1)).alias('count')).groupBy('count').agg(F.count(F.lit(1))).orderBy('count').show(100,False)"
      ],
      "metadata": {
        "colab": {
          "base_uri": "https://localhost:8080/"
        },
        "id": "q6YOp-RPdLky",
        "outputId": "77020161-8c20-4119-deff-3051e3e4ef78"
      },
      "execution_count": 133,
      "outputs": [
        {
          "output_type": "stream",
          "name": "stdout",
          "text": [
            "+------+--------+\n",
            "|count |count(1)|\n",
            "+------+--------+\n",
            "|40332 |1       |\n",
            "|121241|1       |\n",
            "+------+--------+\n",
            "\n"
          ]
        }
      ]
    },
    {
      "cell_type": "code",
      "source": [
        "df_cleaned = (\n",
        "    df_train.withColumn('speed',F.col('length')/F.col('ata')*3.6)\n",
        "            .withColumn('createdAt',F.from_unixtime(F.col('timestamp')/1000))\n",
        "            .withColumn('timeOfDay',F.hour('createdAt')+F.round(F.minute('createdAt')/60,2))\n",
        "            .withColumn('dayOfWeek',F.dayofweek('createdAt'))\n",
        "            .withColumn('target',F.col('eta')/F.col('ata'))\n",
        "            .withColumn('targetError',F.abs(100*((F.col('eta')-F.col('ata'))/F.col('ata'))))\n",
        "            .withColumn('isInTehran',((F.col('latitude').between(35.58,35.85)) & (F.col('longitude').between(51.1,51.6))).cast('integer'))\n",
        "            #.withColumn('wayType',(F.col('way_type')/3).cast('integer'))\n",
        ").persist()\n",
        "\n",
        "df_features = (\n",
        "    df_cleaned.filter(F.col('speed')<=150)\n",
        "              .filter(F.col('coverage').between(0.85,1.05))\n",
        "              .filter(F.col('is_tunnel')==0)\n",
        "              .filter(F.col('way_type').isin([3,6,7,9]))\n",
        "              #.filter(F.col('way_type')==9)\n",
        "              .select('length','eta','coverage','way_segments_count','way_type','latitude','longitude','timeOfDay','dayOfWeek','target','ata','isInTehran')\n",
        ")\n",
        "\n",
        "df_features.show(20,False)\n",
        "df_features.count()"
      ],
      "metadata": {
        "colab": {
          "base_uri": "https://localhost:8080/"
        },
        "id": "Bf5t_TPZ-_-F",
        "outputId": "5f0afe99-b428-472e-fbcc-93a7fd70c950"
      },
      "execution_count": 161,
      "outputs": [
        {
          "output_type": "stream",
          "name": "stdout",
          "text": [
            "+--------+------+------------------+------------------+--------+----------+----------+---------+---------+-------------------+------+----------+\n",
            "|length  |eta   |coverage          |way_segments_count|way_type|latitude  |longitude |timeOfDay|dayOfWeek|target             |ata   |isInTehran|\n",
            "+--------+------+------------------+------------------+--------+----------+----------+---------+---------+-------------------+------+----------+\n",
            "|68.373  |9.116 |0.9988050838781368|1                 |7       |35.8001555|51.4748499|5.6      |2        |0.9116911691169116 |9.999 |1         |\n",
            "|76.896  |6.291 |0.9697557740324592|3                 |7       |32.645556 |51.6593476|5.42     |2        |0.8982010279840092 |7.004 |0         |\n",
            "|76.896  |6.291 |0.8830849459009574|1                 |7       |32.645556 |51.6593476|12.08    |7        |0.967995076165564  |6.499 |0         |\n",
            "|869.709 |38.182|0.9694518511364142|2                 |9       |32.9273571|51.5172039|11.82    |4        |1.193784392196098  |31.984|0         |\n",
            "|609.71  |49.885|0.9911105771596332|1                 |6       |35.6646162|51.2939361|13.83    |2        |1.2313635466034754 |40.512|1         |\n",
            "|1295.522|67.592|0.978333829915663 |1                 |9       |32.8076558|51.6030575|3.33     |2        |1.024214322514168  |65.994|0         |\n",
            "|70.331  |10.549|0.9497490438071416|1                 |3       |32.8610878|51.5457812|18.13    |5        |1.5052796803652968 |7.008 |0         |\n",
            "|70.331  |8.167 |0.925996217884006 |2                 |3       |32.8610878|51.5457812|18.9     |5        |1.0211302825706425 |7.998 |0         |\n",
            "|146.301 |13.167|0.9065331064039194|1                 |7       |32.8969697|51.5341962|18.07    |1        |0.9407687910831666 |13.996|0         |\n",
            "|140.051 |10.289|0.9266431514234084|1                 |3       |32.6939679|51.7443231|16.67    |5        |1.0832806906717205 |9.498 |0         |\n",
            "|140.051 |10.289|0.957883199691542 |1                 |3       |32.6939679|51.7443231|19.13    |3        |1.4700671524503501 |6.999 |0         |\n",
            "|147.414 |6.803 |0.9463422741394992|2                 |9       |36.3450115|59.531468 |1.47     |3        |0.7561409358675114 |8.997 |0         |\n",
            "|161.402 |11.173|0.9655146776372   |1                 |3       |32.7891656|51.6993189|5.75     |4        |1.1161838161838162 |10.01 |0         |\n",
            "|161.402 |12.362|0.9516492980260478|4                 |3       |32.7891656|51.6993189|11.15    |6        |1.0296518407462936 |12.006|0         |\n",
            "|29.185  |17.775|0.9611101593283972|1                 |6       |35.7537115|51.2639214|12.18    |7        |2.737141977209732  |6.494 |1         |\n",
            "|66.882  |11.465|0.9866373613229256|1                 |7       |35.716939 |51.4072227|0.25     |3        |0.32300323989294266|35.495|1         |\n",
            "|73.012  |11.947|0.983417794335179 |3                 |6       |34.6099375|50.8509349|6.22     |1        |0.8241015382492929 |14.497|0         |\n",
            "|73.012  |13.833|0.8550923135922958|1                 |6       |34.6099375|50.8509349|15.33    |5        |1.2020333680917623 |11.508|0         |\n",
            "|44.59   |21.918|0.8628997533078998|2                 |7       |34.606844 |50.9066638|11.88    |7        |3.123111997720148  |7.018 |0         |\n",
            "|73.486  |5.398 |0.8871485725172046|2                 |3       |34.6213318|50.8486531|4.32     |2        |1.0785214785214785 |5.005 |0         |\n",
            "+--------+------+------------------+------------------+--------+----------+----------+---------+---------+-------------------+------+----------+\n",
            "only showing top 20 rows\n",
            "\n"
          ]
        },
        {
          "output_type": "execute_result",
          "data": {
            "text/plain": [
              "135887"
            ]
          },
          "metadata": {},
          "execution_count": 161
        }
      ]
    },
    {
      "cell_type": "code",
      "source": [
        "test_data = df_features.toPandas()\n",
        "#sns.histplot(data = test_data, x= 'target',stat='probability',hue='way_type',common_norm=False)"
      ],
      "metadata": {
        "id": "O5Rwd70h0U6t"
      },
      "execution_count": 163,
      "outputs": []
    },
    {
      "cell_type": "code",
      "source": [
        "sns.set_theme(style=\"darkgrid\")\n",
        "sns.set(rc = {'figure.figsize':(13,8)})\n",
        "sns.histplot(data = test_data[test_data['target']<2], x= 'target',stat='probability',hue='way_type',common_norm=False,alpha=0.4,kde=True)"
      ],
      "metadata": {
        "colab": {
          "base_uri": "https://localhost:8080/",
          "height": 524
        },
        "id": "mpMGUXYO0_Ua",
        "outputId": "8ab3aae5-66cf-463d-f943-20eb3a13268a"
      },
      "execution_count": 164,
      "outputs": [
        {
          "output_type": "execute_result",
          "data": {
            "text/plain": [
              "<matplotlib.axes._subplots.AxesSubplot at 0x7f17bba9b3d0>"
            ]
          },
          "metadata": {},
          "execution_count": 164
        },
        {
          "output_type": "display_data",
          "data": {
            "text/plain": [
              "<Figure size 936x576 with 1 Axes>"
            ],
            "image/png": "[encoded data removed]"
          },
          "metadata": {}
        }
      ]
    },
    {
      "cell_type": "code",
      "source": [
        "df_eta = (\n",
        "    df_cleaned.withColumn('etaBucket',F.round(5*F.round(F.col('eta')/5),0))\n",
        "              .groupBy('etaBucket')\n",
        "              .agg(F.round(F.mean('targetError'),2).alias('error rate'))\n",
        "              .orderBy('etaBucket')\n",
        ")\n",
        "\n",
        "df_eta.show(100,False)"
      ],
      "metadata": {
        "colab": {
          "base_uri": "https://localhost:8080/"
        },
        "id": "TljFT4EHyOhr",
        "outputId": "b769868b-344d-49ea-a9f8-65f36a2564e4"
      },
      "execution_count": 134,
      "outputs": [
        {
          "output_type": "stream",
          "name": "stdout",
          "text": [
            "+---------+----------+\n",
            "|etaBucket|error rate|\n",
            "+---------+----------+\n",
            "|5.0      |22.3      |\n",
            "|10.0     |28.64     |\n",
            "|15.0     |39.15     |\n",
            "|20.0     |53.81     |\n",
            "|25.0     |56.65     |\n",
            "|30.0     |49.79     |\n",
            "|35.0     |45.74     |\n",
            "|40.0     |38.31     |\n",
            "|45.0     |36.39     |\n",
            "|50.0     |30.36     |\n",
            "|55.0     |30.38     |\n",
            "|60.0     |30.54     |\n",
            "|65.0     |34.49     |\n",
            "|70.0     |22.9      |\n",
            "|75.0     |27.93     |\n",
            "|80.0     |30.44     |\n",
            "|85.0     |24.4      |\n",
            "|90.0     |27.13     |\n",
            "|95.0     |21.96     |\n",
            "|100.0    |18.84     |\n",
            "|105.0    |25.41     |\n",
            "|110.0    |27.2      |\n",
            "|115.0    |15.03     |\n",
            "|120.0    |22.81     |\n",
            "|125.0    |19.24     |\n",
            "|130.0    |15.26     |\n",
            "|135.0    |19.54     |\n",
            "|140.0    |28.13     |\n",
            "|145.0    |26.81     |\n",
            "|150.0    |12.73     |\n",
            "|155.0    |17.56     |\n",
            "|160.0    |14.86     |\n",
            "|165.0    |36.2      |\n",
            "|170.0    |34.48     |\n",
            "|175.0    |16.09     |\n",
            "|180.0    |12.59     |\n",
            "|185.0    |15.06     |\n",
            "|190.0    |32.86     |\n",
            "|195.0    |34.07     |\n",
            "|200.0    |13.59     |\n",
            "|205.0    |14.19     |\n",
            "|210.0    |13.02     |\n",
            "|215.0    |14.06     |\n",
            "|220.0    |10.54     |\n",
            "|225.0    |16.55     |\n",
            "|230.0    |20.26     |\n",
            "|235.0    |12.16     |\n",
            "|240.0    |6.97      |\n",
            "|245.0    |30.81     |\n",
            "|250.0    |12.06     |\n",
            "|255.0    |9.97      |\n",
            "|260.0    |12.33     |\n",
            "|265.0    |8.02      |\n",
            "|270.0    |18.14     |\n",
            "|275.0    |12.3      |\n",
            "|280.0    |12.25     |\n",
            "|285.0    |11.57     |\n",
            "|290.0    |20.06     |\n",
            "|295.0    |16.3      |\n",
            "|300.0    |10.23     |\n",
            "|310.0    |10.94     |\n",
            "|315.0    |11.08     |\n",
            "|320.0    |16.18     |\n",
            "|325.0    |16.72     |\n",
            "|330.0    |8.17      |\n",
            "|335.0    |16.38     |\n",
            "|340.0    |13.81     |\n",
            "|345.0    |7.41      |\n",
            "|350.0    |12.18     |\n",
            "|355.0    |5.64      |\n",
            "|360.0    |12.68     |\n",
            "|365.0    |7.17      |\n",
            "|370.0    |7.82      |\n",
            "|375.0    |17.51     |\n",
            "|380.0    |13.2      |\n",
            "|385.0    |22.7      |\n",
            "|390.0    |16.53     |\n",
            "|395.0    |17.37     |\n",
            "|400.0    |3.49      |\n",
            "|405.0    |11.12     |\n",
            "|410.0    |7.12      |\n",
            "|415.0    |11.48     |\n",
            "|420.0    |20.78     |\n",
            "|425.0    |9.74      |\n",
            "|430.0    |12.81     |\n",
            "|435.0    |17.85     |\n",
            "|445.0    |7.39      |\n",
            "|450.0    |35.81     |\n",
            "|455.0    |36.33     |\n",
            "|460.0    |5.73      |\n",
            "|465.0    |14.69     |\n",
            "|475.0    |6.72      |\n",
            "|480.0    |21.6      |\n",
            "|485.0    |14.93     |\n",
            "|490.0    |12.65     |\n",
            "|495.0    |13.68     |\n",
            "|510.0    |22.94     |\n",
            "|515.0    |10.76     |\n",
            "|520.0    |20.54     |\n",
            "|525.0    |0.16      |\n",
            "+---------+----------+\n",
            "only showing top 100 rows\n",
            "\n"
          ]
        }
      ]
    },
    {
      "cell_type": "code",
      "source": [
        "eta_plot = df_eta.toPandas()\n",
        "sns.lineplot(data = eta_plot[eta_plot['etaBucket']<200\n",
        "                                ] , x='etaBucket',y='error rate' )"
      ],
      "metadata": {
        "colab": {
          "base_uri": "https://localhost:8080/",
          "height": 297
        },
        "id": "alg2f4M_ye9I",
        "outputId": "fe398a77-731e-4a7e-8395-3ea9b722b881"
      },
      "execution_count": 135,
      "outputs": [
        {
          "output_type": "execute_result",
          "data": {
            "text/plain": [
              "<matplotlib.axes._subplots.AxesSubplot at 0x7f17d9530dd0>"
            ]
          },
          "metadata": {},
          "execution_count": 135
        },
        {
          "output_type": "display_data",
          "data": {
            "text/plain": [
              "<Figure size 432x288 with 1 Axes>"
            ],
            "image/png": "[encoded data removed]"
          },
          "metadata": {
            "needs_background": "light"
          }
        }
      ]
    },
    {
      "cell_type": "code",
      "source": [
        "df_features.agg(F.mean('isInTehran')).show()"
      ],
      "metadata": {
        "colab": {
          "base_uri": "https://localhost:8080/"
        },
        "id": "Sdq3--HDNTfx",
        "outputId": "23beee2d-459f-4ceb-e44e-be9051583eda"
      },
      "execution_count": 58,
      "outputs": [
        {
          "output_type": "stream",
          "name": "stdout",
          "text": [
            "+------------------+\n",
            "|   avg(isInTehran)|\n",
            "+------------------+\n",
            "|0.2520779427282846|\n",
            "+------------------+\n",
            "\n"
          ]
        }
      ]
    },
    {
      "cell_type": "code",
      "source": [
        "(\n",
        "    df_cleaned.filter(F.col('speed')<=150)\n",
        "              .filter(F.col('coverage').between(0.85,1.05))\n",
        "              .filter(F.col('is_tunnel')==0)\n",
        "              .filter(F.col('length')<=2500)\n",
        "              .filter(F.col('way_type')==9)\n",
        "              .agg(F.round(F.mean('targetError'),2).alias('error rate'))\n",
        ").show()"
      ],
      "metadata": {
        "colab": {
          "base_uri": "https://localhost:8080/"
        },
        "id": "vXWEiXjr_Udw",
        "outputId": "2c13e8ee-12a2-4087-8eb7-b0ea97972f48"
      },
      "execution_count": 146,
      "outputs": [
        {
          "output_type": "stream",
          "name": "stdout",
          "text": [
            "+----------+\n",
            "|error rate|\n",
            "+----------+\n",
            "|     20.98|\n",
            "+----------+\n",
            "\n"
          ]
        }
      ]
    },
    {
      "cell_type": "code",
      "source": [
        "# Data\n",
        "from sklearn.model_selection import train_test_split\n",
        "\n",
        "features_train = df_features.toPandas()\n",
        "#features_test = test_cleaned.toPandas()\n",
        "\n",
        "#X = ['length','eta','coverage','way_segments_count','latitude','longitude','timeOfDay','dayOfWeek','way_type']\n",
        "\n",
        "Train_Fetures = features_train[['length','eta','coverage','latitude','longitude','timeOfDay']]\n",
        "Train_Target = features_train[['target','ata']]\n",
        "\n",
        "# Fit\n",
        "train_X, test_X, train_y, test_y = train_test_split(Train_Fetures, Train_Target, test_size=0.1)"
      ],
      "metadata": {
        "id": "49rZEVFvIbAg"
      },
      "execution_count": 147,
      "outputs": []
    },
    {
      "cell_type": "code",
      "source": [
        "import xgboost as xgb\n",
        "# Fit\n",
        "train_X, test_X, train_y, test_y = train_test_split(Train_Fetures, Train_Target, test_size=0.1)\n",
        "g = test_X[['eta']]\n",
        "#train_X = pca.transform(train_X)\n",
        "#test_X = pca.transform(test_X)\n",
        "\n",
        "model = xgb.XGBRegressor(learing_rate = 0.15,\n",
        "                         max_depth=15,\n",
        "                         n_estimators=350,\n",
        "                         min_child_weight=3,\n",
        "                         eval_metric='mae')\n",
        "\n",
        "eval_set = [(train_X, train_y['target']), (test_X, test_y['target'])]\n",
        "model.fit(train_X, (train_y['target']).values.ravel(), early_stopping_rounds=25, eval_metric=[\"mae\"], eval_set=eval_set, verbose=True)"
      ],
      "metadata": {
        "colab": {
          "base_uri": "https://localhost:8080/"
        },
        "id": "e1tnbfNpzSvI",
        "outputId": "c77929d8-7147-4331-fbb5-fe452ea5d9e7"
      },
      "execution_count": 153,
      "outputs": [
        {
          "output_type": "stream",
          "name": "stdout",
          "text": [
            "[10:26:07] WARNING: /workspace/src/objective/regression_obj.cu:152: reg:linear is now deprecated in favor of reg:squarederror.\n",
            "[0]\tvalidation_0-mae:0.531832\tvalidation_1-mae:0.533846\n",
            "Multiple eval metrics have been passed: 'validation_1-mae' will be used for early stopping.\n",
            "\n",
            "Will train until validation_1-mae hasn't improved in 25 rounds.\n",
            "[1]\tvalidation_0-mae:0.484207\tvalidation_1-mae:0.490327\n",
            "[2]\tvalidation_0-mae:0.442193\tvalidation_1-mae:0.454565\n",
            "[3]\tvalidation_0-mae:0.405022\tvalidation_1-mae:0.42059\n",
            "[4]\tvalidation_0-mae:0.3725\tvalidation_1-mae:0.3947\n",
            "[5]\tvalidation_0-mae:0.34357\tvalidation_1-mae:0.370294\n",
            "[6]\tvalidation_0-mae:0.31852\tvalidation_1-mae:0.349895\n",
            "[7]\tvalidation_0-mae:0.296816\tvalidation_1-mae:0.334987\n",
            "[8]\tvalidation_0-mae:0.278263\tvalidation_1-mae:0.321712\n",
            "[9]\tvalidation_0-mae:0.262515\tvalidation_1-mae:0.313183\n",
            "[10]\tvalidation_0-mae:0.249959\tvalidation_1-mae:0.306592\n",
            "[11]\tvalidation_0-mae:0.239593\tvalidation_1-mae:0.301875\n",
            "[12]\tvalidation_0-mae:0.230798\tvalidation_1-mae:0.297177\n",
            "[13]\tvalidation_0-mae:0.223837\tvalidation_1-mae:0.294334\n",
            "[14]\tvalidation_0-mae:0.218015\tvalidation_1-mae:0.293412\n",
            "[15]\tvalidation_0-mae:0.213491\tvalidation_1-mae:0.293614\n",
            "[16]\tvalidation_0-mae:0.210147\tvalidation_1-mae:0.294872\n",
            "[17]\tvalidation_0-mae:0.207229\tvalidation_1-mae:0.29581\n",
            "[18]\tvalidation_0-mae:0.205539\tvalidation_1-mae:0.297867\n",
            "[19]\tvalidation_0-mae:0.204543\tvalidation_1-mae:0.299594\n",
            "[20]\tvalidation_0-mae:0.203648\tvalidation_1-mae:0.299197\n",
            "[21]\tvalidation_0-mae:0.202732\tvalidation_1-mae:0.301444\n",
            "[22]\tvalidation_0-mae:0.20241\tvalidation_1-mae:0.303834\n",
            "[23]\tvalidation_0-mae:0.201641\tvalidation_1-mae:0.304516\n",
            "[24]\tvalidation_0-mae:0.201417\tvalidation_1-mae:0.306645\n",
            "[25]\tvalidation_0-mae:0.200829\tvalidation_1-mae:0.309999\n",
            "[26]\tvalidation_0-mae:0.200606\tvalidation_1-mae:0.31186\n",
            "[27]\tvalidation_0-mae:0.200436\tvalidation_1-mae:0.313327\n",
            "[28]\tvalidation_0-mae:0.200067\tvalidation_1-mae:0.316448\n",
            "[29]\tvalidation_0-mae:0.199845\tvalidation_1-mae:0.317993\n",
            "[30]\tvalidation_0-mae:0.199902\tvalidation_1-mae:0.319599\n",
            "[31]\tvalidation_0-mae:0.199462\tvalidation_1-mae:0.322733\n",
            "[32]\tvalidation_0-mae:0.19935\tvalidation_1-mae:0.324255\n",
            "[33]\tvalidation_0-mae:0.19818\tvalidation_1-mae:0.325344\n",
            "[34]\tvalidation_0-mae:0.19803\tvalidation_1-mae:0.327883\n",
            "[35]\tvalidation_0-mae:0.197231\tvalidation_1-mae:0.329702\n",
            "[36]\tvalidation_0-mae:0.196467\tvalidation_1-mae:0.330548\n",
            "[37]\tvalidation_0-mae:0.195961\tvalidation_1-mae:0.331316\n",
            "[38]\tvalidation_0-mae:0.195337\tvalidation_1-mae:0.332917\n",
            "[39]\tvalidation_0-mae:0.194645\tvalidation_1-mae:0.334143\n",
            "Stopping. Best iteration:\n",
            "[14]\tvalidation_0-mae:0.218015\tvalidation_1-mae:0.293412\n",
            "\n"
          ]
        },
        {
          "output_type": "execute_result",
          "data": {
            "text/plain": [
              "XGBRegressor(eval_metric='mae', learing_rate=0.15, max_depth=15,\n",
              "             min_child_weight=3, n_estimators=350)"
            ]
          },
          "metadata": {},
          "execution_count": 153
        }
      ]
    },
    {
      "cell_type": "code",
      "source": [
        "y_predicted =  model.predict(test_X)\n",
        "prediction = g\n",
        "prediction['predicted ATA'] = (prediction['eta']) * y_predicted\n",
        "prediction['ata'] = test_y['ata']\n",
        "\n",
        "prediction['error'] = abs((prediction['predicted ATA']-prediction['ata'])/(prediction['ata']))* 100\n",
        "\n",
        "prediction['error'].describe()"
      ],
      "metadata": {
        "colab": {
          "base_uri": "https://localhost:8080/"
        },
        "id": "t17i6GICzVOR",
        "outputId": "a10c03de-8ec8-4d74-c480-7111683ca4c5"
      },
      "execution_count": 154,
      "outputs": [
        {
          "output_type": "execute_result",
          "data": {
            "text/plain": [
              "count    1854.000000\n",
              "mean       22.126226\n",
              "std        76.839993\n",
              "min         0.008581\n",
              "25%         6.109541\n",
              "50%        13.654967\n",
              "75%        24.438840\n",
              "max      2890.250608\n",
              "Name: error, dtype: float64"
            ]
          },
          "metadata": {},
          "execution_count": 154
        }
      ]
    },
    {
      "cell_type": "code",
      "source": [
        "from sklearn.decomposition import PCA\n",
        "\n",
        "pca = PCA(n_components=2)\n",
        "pca.fit(train_X)\n",
        "\n",
        "#X = pca.transform(train_X)"
      ],
      "metadata": {
        "colab": {
          "base_uri": "https://localhost:8080/"
        },
        "id": "1m_9fUFWITpS",
        "outputId": "08b497bf-f8d5-486b-d92d-2b36b79c6345"
      },
      "execution_count": 22,
      "outputs": [
        {
          "output_type": "execute_result",
          "data": {
            "text/plain": [
              "PCA(n_components=2)"
            ]
          },
          "metadata": {},
          "execution_count": 22
        }
      ]
    },
    {
      "cell_type": "code",
      "source": [
        "print(pca.explained_variance_ratio_)"
      ],
      "metadata": {
        "colab": {
          "base_uri": "https://localhost:8080/"
        },
        "id": "ov7fi-UPIoAo",
        "outputId": "0bbd7a87-6f99-481d-9da2-02af6b7bff0a"
      },
      "execution_count": 23,
      "outputs": [
        {
          "output_type": "stream",
          "name": "stdout",
          "text": [
            "[9.99474367e-01 3.79126777e-04]\n"
          ]
        }
      ]
    },
    {
      "cell_type": "code",
      "source": [
        "x_pca = [row[0] for row in train_X]\n",
        "x_pca"
      ],
      "metadata": {
        "id": "LHKk4iyIKFbg"
      },
      "execution_count": null,
      "outputs": []
    },
    {
      "cell_type": "code",
      "source": [
        "import seaborn as sns\n",
        "\n",
        "pandas_df = pd.DataFrame()\n",
        "pandas_df['X1'] = [row[0] for row in train_X]\n",
        "pandas_df['X2'] = [row[1] for row in train_X]\n",
        "\n",
        "sns.scatterplot(data = pandas_df, x ='X1',y='X2')"
      ],
      "metadata": {
        "colab": {
          "base_uri": "https://localhost:8080/",
          "height": 297
        },
        "id": "t-MyhAr_JyXT",
        "outputId": "cca44871-614a-4b9b-986c-391cc013916f"
      },
      "execution_count": 38,
      "outputs": [
        {
          "output_type": "execute_result",
          "data": {
            "text/plain": [
              "<matplotlib.axes._subplots.AxesSubplot at 0x7f17edb9a150>"
            ]
          },
          "metadata": {},
          "execution_count": 38
        },
        {
          "output_type": "display_data",
          "data": {
            "text/plain": [
              "<Figure size 432x288 with 1 Axes>"
            ],
            "image/png": "[encoded data removed]"
          },
          "metadata": {
            "needs_background": "light"
          }
        }
      ]
    },
    {
      "cell_type": "code",
      "source": [
        "import xgboost as xgb\n",
        "# Fit\n",
        "train_X, test_X, train_y, test_y = train_test_split(Train_Fetures, Train_Target, test_size=0.1)\n",
        "g = test_X[['eta']]\n",
        "#train_X = pca.transform(train_X)\n",
        "#test_X = pca.transform(test_X)\n",
        "\n",
        "model = xgb.XGBRegressor(learing_rate = 0.2,\n",
        "                         max_depth=10,\n",
        "                         n_estimators=200,\n",
        "                         min_child_weight=3,\n",
        "                         eval_metric='mae')\n",
        "\n",
        "eval_set = [(train_X, train_y['target']), (test_X, test_y['target'])]\n",
        "model.fit(train_X, (train_y['target']).values.ravel(), early_stopping_rounds=25, eval_metric=[\"mae\"], eval_set=eval_set, verbose=True)"
      ],
      "metadata": {
        "colab": {
          "base_uri": "https://localhost:8080/"
        },
        "id": "m39czlPwI9Hg",
        "outputId": "82a7c933-2c68-4e89-bc06-5c9cff51c5df"
      },
      "execution_count": 128,
      "outputs": [
        {
          "output_type": "stream",
          "name": "stdout",
          "text": [
            "[07:59:28] WARNING: /workspace/src/objective/regression_obj.cu:152: reg:linear is now deprecated in favor of reg:squarederror.\n",
            "[0]\tvalidation_0-mae:0.537532\tvalidation_1-mae:0.564004\n",
            "Multiple eval metrics have been passed: 'validation_1-mae' will be used for early stopping.\n",
            "\n",
            "Will train until validation_1-mae hasn't improved in 25 rounds.\n",
            "[1]\tvalidation_0-mae:0.491929\tvalidation_1-mae:0.519675\n",
            "[2]\tvalidation_0-mae:0.453043\tvalidation_1-mae:0.482769\n",
            "[3]\tvalidation_0-mae:0.420461\tvalidation_1-mae:0.451508\n",
            "[4]\tvalidation_0-mae:0.393276\tvalidation_1-mae:0.425945\n",
            "[5]\tvalidation_0-mae:0.371434\tvalidation_1-mae:0.405647\n",
            "[6]\tvalidation_0-mae:0.354278\tvalidation_1-mae:0.390244\n",
            "[7]\tvalidation_0-mae:0.341124\tvalidation_1-mae:0.378521\n",
            "[8]\tvalidation_0-mae:0.331123\tvalidation_1-mae:0.370356\n",
            "[9]\tvalidation_0-mae:0.324066\tvalidation_1-mae:0.365027\n",
            "[10]\tvalidation_0-mae:0.318938\tvalidation_1-mae:0.36132\n",
            "[11]\tvalidation_0-mae:0.315605\tvalidation_1-mae:0.358886\n",
            "[12]\tvalidation_0-mae:0.313316\tvalidation_1-mae:0.357927\n",
            "[13]\tvalidation_0-mae:0.312022\tvalidation_1-mae:0.358575\n",
            "[14]\tvalidation_0-mae:0.311419\tvalidation_1-mae:0.359205\n",
            "[15]\tvalidation_0-mae:0.311417\tvalidation_1-mae:0.360642\n",
            "[16]\tvalidation_0-mae:0.311752\tvalidation_1-mae:0.361628\n",
            "[17]\tvalidation_0-mae:0.312312\tvalidation_1-mae:0.362997\n",
            "[18]\tvalidation_0-mae:0.313084\tvalidation_1-mae:0.364659\n",
            "[19]\tvalidation_0-mae:0.313964\tvalidation_1-mae:0.366215\n",
            "[20]\tvalidation_0-mae:0.314706\tvalidation_1-mae:0.367575\n",
            "[21]\tvalidation_0-mae:0.315619\tvalidation_1-mae:0.369297\n",
            "[22]\tvalidation_0-mae:0.316433\tvalidation_1-mae:0.371056\n",
            "[23]\tvalidation_0-mae:0.31728\tvalidation_1-mae:0.373005\n",
            "[24]\tvalidation_0-mae:0.318104\tvalidation_1-mae:0.374181\n",
            "[25]\tvalidation_0-mae:0.318882\tvalidation_1-mae:0.375491\n",
            "[26]\tvalidation_0-mae:0.319644\tvalidation_1-mae:0.376674\n",
            "[27]\tvalidation_0-mae:0.320264\tvalidation_1-mae:0.377567\n",
            "[28]\tvalidation_0-mae:0.320855\tvalidation_1-mae:0.378753\n",
            "[29]\tvalidation_0-mae:0.321192\tvalidation_1-mae:0.379356\n",
            "[30]\tvalidation_0-mae:0.321721\tvalidation_1-mae:0.380533\n",
            "[31]\tvalidation_0-mae:0.322073\tvalidation_1-mae:0.381422\n",
            "[32]\tvalidation_0-mae:0.322566\tvalidation_1-mae:0.382152\n",
            "[33]\tvalidation_0-mae:0.322747\tvalidation_1-mae:0.382801\n",
            "[34]\tvalidation_0-mae:0.323129\tvalidation_1-mae:0.383709\n",
            "[35]\tvalidation_0-mae:0.323543\tvalidation_1-mae:0.384311\n",
            "[36]\tvalidation_0-mae:0.323698\tvalidation_1-mae:0.384773\n",
            "[37]\tvalidation_0-mae:0.323997\tvalidation_1-mae:0.385674\n",
            "Stopping. Best iteration:\n",
            "[12]\tvalidation_0-mae:0.313316\tvalidation_1-mae:0.357927\n",
            "\n"
          ]
        },
        {
          "output_type": "execute_result",
          "data": {
            "text/plain": [
              "XGBRegressor(eval_metric='mae', learing_rate=0.2, max_depth=10,\n",
              "             min_child_weight=3, n_estimators=200)"
            ]
          },
          "metadata": {},
          "execution_count": 128
        }
      ]
    },
    {
      "cell_type": "code",
      "source": [
        "y_predicted =  model.predict(test_X)\n",
        "prediction = g\n",
        "prediction['predicted ATA'] = (prediction['eta']) * y_predicted\n",
        "prediction['ata'] = test_y['ata']\n",
        "\n",
        "prediction['error'] = abs((prediction['predicted ATA']-prediction['ata'])/(prediction['ata']))* 100\n",
        "\n",
        "prediction['error'].describe()"
      ],
      "metadata": {
        "colab": {
          "base_uri": "https://localhost:8080/"
        },
        "id": "w888FU1eJOXh",
        "outputId": "c390b80a-5133-4944-c3a1-4dbf8c6c3830"
      },
      "execution_count": 129,
      "outputs": [
        {
          "output_type": "execute_result",
          "data": {
            "text/plain": [
              "count    13589.000000\n",
              "mean        26.825047\n",
              "std         36.915519\n",
              "min          0.000125\n",
              "25%          8.384909\n",
              "50%         18.415641\n",
              "75%         34.348005\n",
              "max       1744.781827\n",
              "Name: error, dtype: float64"
            ]
          },
          "metadata": {},
          "execution_count": 129
        }
      ]
    },
    {
      "cell_type": "code",
      "source": [
        "# Predcition\n",
        "y_predicted =  model.predict(test_X)\n",
        "prediction = g\n",
        "prediction['predicted ATA'] = y_predicted\n",
        "prediction['ata'] = test_y['ata']\n",
        "\n",
        "prediction['error'] = abs((prediction['predicted ATA']-prediction['ata'])/(prediction['ata']))* 100\n",
        "\n",
        "prediction['error'].describe()"
      ],
      "metadata": {
        "colab": {
          "base_uri": "https://localhost:8080/"
        },
        "id": "JtY5Wq3lLuyo",
        "outputId": "05c2d6ae-2afd-4633-fa62-c2d0663a56b2"
      },
      "execution_count": 115,
      "outputs": [
        {
          "output_type": "execute_result",
          "data": {
            "text/plain": [
              "count    13589.000000\n",
              "mean        26.991761\n",
              "std         35.344519\n",
              "min          0.001704\n",
              "25%          8.682044\n",
              "50%         18.596664\n",
              "75%         34.356637\n",
              "max       1478.289948\n",
              "Name: error, dtype: float64"
            ]
          },
          "metadata": {},
          "execution_count": 115
        }
      ]
    },
    {
      "cell_type": "code",
      "source": [
        "from sklearn.svm import SVR\n",
        "\n",
        "\n",
        "\n",
        "#Test_Features = features_test\n",
        "\n",
        "\n",
        "\n",
        "svr_rbf = SVR(kernel=\"rbf\")\n",
        "svr_rbf.fit(train_X,train_y['ata']) "
      ],
      "metadata": {
        "id": "Eo0yBBIx_OVR"
      },
      "execution_count": null,
      "outputs": []
    },
    {
      "cell_type": "code",
      "source": [
        "svr_rbf.coef_"
      ],
      "metadata": {
        "id": "tuPMgV8FBEwx"
      },
      "execution_count": null,
      "outputs": []
    },
    {
      "cell_type": "code",
      "source": [
        "# Predcition\n",
        "y_predicted =  svr_rbf.predict(test_X)\n",
        "prediction = test_X[['eta','coverage']]\n",
        "prediction['predicted ATA'] = y_predicted\n",
        "prediction['ata'] = test_y['ata']\n",
        "\n",
        "prediction['error'] = abs((prediction['predicted ATA']-prediction['ata'])/(prediction['ata']))* 100\n",
        "\n",
        "prediction['error'].describe()"
      ],
      "metadata": {
        "id": "M8RFGU3AANA6"
      },
      "execution_count": null,
      "outputs": []
    },
    {
      "cell_type": "code",
      "source": [
        "# Predcition\n",
        "y_predicted =  clf.predict(test_X)\n",
        "prediction = test_X[['eta','coverage']]\n",
        "prediction['predicted ATA'] = (prediction['eta']) * y_predicted\n",
        "prediction['ata'] = test_y['ata']\n",
        "\n",
        "prediction['error'] = abs((prediction['predicted ATA']-prediction['ata'])/(prediction['ata']))* 100\n",
        "\n",
        "prediction['error'].describe()"
      ],
      "metadata": {
        "colab": {
          "base_uri": "https://localhost:8080/"
        },
        "id": "WoRDwOoP_RZR",
        "outputId": "dcfcc402-916e-4b89-fba9-4b304bc4be1e"
      },
      "execution_count": null,
      "outputs": [
        {
          "output_type": "execute_result",
          "data": {
            "text/plain": [
              "count    11131.000000\n",
              "mean        34.008895\n",
              "std         35.805593\n",
              "min          0.001789\n",
              "25%         10.967903\n",
              "50%         24.091014\n",
              "75%         44.403563\n",
              "max        400.127538\n",
              "Name: error, dtype: float64"
            ]
          },
          "metadata": {},
          "execution_count": 14
        }
      ]
    }
  ]
}