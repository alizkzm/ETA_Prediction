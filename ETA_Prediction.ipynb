{
  "nbformat": 4,
  "nbformat_minor": 0,
  "metadata": {
    "colab": {
      "name": "ETA Prediction.ipynb",
      "provenance": []
    },
    "kernelspec": {
      "name": "python3",
      "display_name": "Python 3"
    },
    "language_info": {
      "name": "python"
    }
  },
  "cells": [
    {
      "cell_type": "markdown",
      "source": [
        "# Pre **Code** "
      ],
      "metadata": {
        "id": "srqJlqeQ7geM"
      }
    },
    {
      "cell_type": "code",
      "execution_count": 1,
      "metadata": {
        "id": "iBBZvq_GixbX",
        "colab": {
          "base_uri": "https://localhost:8080/"
        },
        "outputId": "ef5866de-3fa9-4037-d90f-094ee8d03f87"
      },
      "outputs": [
        {
          "output_type": "stream",
          "name": "stdout",
          "text": [
            "Collecting pyspark\n",
            "  Downloading pyspark-3.2.1.tar.gz (281.4 MB)\n",
            "\u001b[K     |████████████████████████████████| 281.4 MB 29 kB/s \n",
            "\u001b[?25hCollecting py4j==0.10.9.3\n",
            "  Downloading py4j-0.10.9.3-py2.py3-none-any.whl (198 kB)\n",
            "\u001b[K     |████████████████████████████████| 198 kB 47.9 MB/s \n",
            "\u001b[?25hBuilding wheels for collected packages: pyspark\n",
            "  Building wheel for pyspark (setup.py) ... \u001b[?25l\u001b[?25hdone\n",
            "  Created wheel for pyspark: filename=pyspark-3.2.1-py2.py3-none-any.whl size=281853642 sha256=16f1f1cc61084f54dc369700b0345c290d1a46a088b3da64d603fb3ce4dd9379\n",
            "  Stored in directory: /root/.cache/pip/wheels/9f/f5/07/7cd8017084dce4e93e84e92efd1e1d5334db05f2e83bcef74f\n",
            "Successfully built pyspark\n",
            "Installing collected packages: py4j, pyspark\n",
            "Successfully installed py4j-0.10.9.3 pyspark-3.2.1\n",
            "The following additional packages will be installed:\n",
            "  openjdk-8-jre-headless\n",
            "Suggested packages:\n",
            "  openjdk-8-demo openjdk-8-source libnss-mdns fonts-dejavu-extra\n",
            "  fonts-ipafont-gothic fonts-ipafont-mincho fonts-wqy-microhei\n",
            "  fonts-wqy-zenhei fonts-indic\n",
            "The following NEW packages will be installed:\n",
            "  openjdk-8-jdk-headless openjdk-8-jre-headless\n",
            "0 upgraded, 2 newly installed, 0 to remove and 40 not upgraded.\n",
            "Need to get 36.5 MB of archives.\n",
            "After this operation, 143 MB of additional disk space will be used.\n",
            "Selecting previously unselected package openjdk-8-jre-headless:amd64.\n",
            "(Reading database ... 155501 files and directories currently installed.)\n",
            "Preparing to unpack .../openjdk-8-jre-headless_8u312-b07-0ubuntu1~18.04_amd64.deb ...\n",
            "Unpacking openjdk-8-jre-headless:amd64 (8u312-b07-0ubuntu1~18.04) ...\n",
            "Selecting previously unselected package openjdk-8-jdk-headless:amd64.\n",
            "Preparing to unpack .../openjdk-8-jdk-headless_8u312-b07-0ubuntu1~18.04_amd64.deb ...\n",
            "Unpacking openjdk-8-jdk-headless:amd64 (8u312-b07-0ubuntu1~18.04) ...\n",
            "Setting up openjdk-8-jre-headless:amd64 (8u312-b07-0ubuntu1~18.04) ...\n",
            "update-alternatives: using /usr/lib/jvm/java-8-openjdk-amd64/jre/bin/orbd to provide /usr/bin/orbd (orbd) in auto mode\n",
            "update-alternatives: using /usr/lib/jvm/java-8-openjdk-amd64/jre/bin/servertool to provide /usr/bin/servertool (servertool) in auto mode\n",
            "update-alternatives: using /usr/lib/jvm/java-8-openjdk-amd64/jre/bin/tnameserv to provide /usr/bin/tnameserv (tnameserv) in auto mode\n",
            "Setting up openjdk-8-jdk-headless:amd64 (8u312-b07-0ubuntu1~18.04) ...\n",
            "update-alternatives: using /usr/lib/jvm/java-8-openjdk-amd64/bin/idlj to provide /usr/bin/idlj (idlj) in auto mode\n",
            "update-alternatives: using /usr/lib/jvm/java-8-openjdk-amd64/bin/wsimport to provide /usr/bin/wsimport (wsimport) in auto mode\n",
            "update-alternatives: using /usr/lib/jvm/java-8-openjdk-amd64/bin/jsadebugd to provide /usr/bin/jsadebugd (jsadebugd) in auto mode\n",
            "update-alternatives: using /usr/lib/jvm/java-8-openjdk-amd64/bin/native2ascii to provide /usr/bin/native2ascii (native2ascii) in auto mode\n",
            "update-alternatives: using /usr/lib/jvm/java-8-openjdk-amd64/bin/javah to provide /usr/bin/javah (javah) in auto mode\n",
            "update-alternatives: using /usr/lib/jvm/java-8-openjdk-amd64/bin/hsdb to provide /usr/bin/hsdb (hsdb) in auto mode\n",
            "update-alternatives: using /usr/lib/jvm/java-8-openjdk-amd64/bin/clhsdb to provide /usr/bin/clhsdb (clhsdb) in auto mode\n",
            "update-alternatives: using /usr/lib/jvm/java-8-openjdk-amd64/bin/xjc to provide /usr/bin/xjc (xjc) in auto mode\n",
            "update-alternatives: using /usr/lib/jvm/java-8-openjdk-amd64/bin/schemagen to provide /usr/bin/schemagen (schemagen) in auto mode\n",
            "update-alternatives: using /usr/lib/jvm/java-8-openjdk-amd64/bin/extcheck to provide /usr/bin/extcheck (extcheck) in auto mode\n",
            "update-alternatives: using /usr/lib/jvm/java-8-openjdk-amd64/bin/jhat to provide /usr/bin/jhat (jhat) in auto mode\n",
            "update-alternatives: using /usr/lib/jvm/java-8-openjdk-amd64/bin/wsgen to provide /usr/bin/wsgen (wsgen) in auto mode\n"
          ]
        }
      ],
      "source": [
        "!pip install pyspark\n",
        "!pip install -U -q PyDrive\n",
        "!apt install openjdk-8-jdk-headless -qq\n",
        "import os\n",
        "os.environ[\"JAVA_HOME\"] = \"/usr/lib/jvm/java-8-openjdk-amd64\""
      ]
    },
    {
      "cell_type": "code",
      "source": [
        "import warnings\n",
        "\n",
        "warnings.filterwarnings(\"ignore\")"
      ],
      "metadata": {
        "id": "mtAeEBTkC-HE"
      },
      "execution_count": 2,
      "outputs": []
    },
    {
      "cell_type": "code",
      "source": [
        "import pandas as pd\n",
        "import numpy as np\n",
        "import matplotlib.pyplot as plt\n",
        "%matplotlib inline\n",
        "\n",
        "import pyspark\n",
        "from pyspark.sql import *\n",
        "from pyspark import SparkContext, SparkConf\n",
        "spark = SparkSession.builder.getOrCreate()"
      ],
      "metadata": {
        "id": "rg_nQzjPi4Ei"
      },
      "execution_count": 3,
      "outputs": []
    },
    {
      "cell_type": "code",
      "source": [
        "import json\n",
        "import pyspark.sql.functions as F\n",
        "import pyspark.sql.types as T\n",
        "from datetime import datetime,timedelta,date\n",
        "from pyspark import SparkContext\n",
        "import ast\n",
        "from pyspark.sql import Window\n",
        "import seaborn as sns"
      ],
      "metadata": {
        "id": "Qyd9uHqZi5Xz"
      },
      "execution_count": 4,
      "outputs": []
    },
    {
      "cell_type": "code",
      "source": [
        "data_location = pd.read_csv('/content/SERS_train.csv')\n",
        "data = pd.DataFrame(data_location)\n",
        "\n",
        "test =data.dropna()\n",
        "from pyspark.sql import SparkSession\n",
        "spark = SparkSession.builder \\\n",
        "    .master(\"local[1]\") \\\n",
        "    .appName(\"SparkByExamples.com\") \\\n",
        "    .getOrCreate()\n",
        "df_train = spark.createDataFrame(test) \n",
        "df_train.show(10,False)"
      ],
      "metadata": {
        "colab": {
          "base_uri": "https://localhost:8080/"
        },
        "id": "DXov7WkcjfAF",
        "outputId": "9e555cdc-572b-4917-d602-bdf1a93b267e"
      },
      "execution_count": 5,
      "outputs": [
        {
          "output_type": "stream",
          "name": "stdout",
          "text": [
            "+-------+--------+--------+---------------------+------+-------------+------------------+------+----------+----------+---------+----------+------------------+\n",
            "|edge_id|length  |way_type|way_name             |eta   |timestamp    |coverage          |ata   |latitude  |longitude |is_tunnel|user_group|way_segments_count|\n",
            "+-------+--------+--------+---------------------+------+-------------+------------------+------+----------+----------+---------+----------+------------------+\n",
            "|165    |36.713  |7       |توحیدی               |13.007|1641423595457|1.1149456595756022|7.475 |35.768834 |51.4694875|0.0      |B         |1                 |\n",
            "|286    |68.373  |7       |بوستان               |9.116 |1641188168444|0.9988050838781368|9.999 |35.8001555|51.4748499|0.0      |A         |1                 |\n",
            "|455    |76.896  |7       |آذر                  |6.291 |1642397104643|0.9697557740324592|7.004 |32.645556 |51.6593476|0.0      |A         |3                 |\n",
            "|455    |76.896  |7       |آذر                  |6.291 |1642248357955|0.8830849459009574|6.499 |32.645556 |51.6593476|0.0      |A         |1                 |\n",
            "|624    |869.709 |9       |جاده شاهین شهر - میمه|38.182|1642592984805|0.9694518511364142|31.984|32.9273571|51.5172039|0.0      |A         |2                 |\n",
            "|1933   |609.71  |6       |شهدای اسلامی         |49.885|1641822600562|0.9911105771596332|40.512|35.6646162|51.2939361|0.0      |A         |1                 |\n",
            "|2114   |1295.522|9       |بلوار سردار سلیمانی  |67.592|1641180015976|0.978333829915663 |65.994|32.8076558|51.6030575|0.0      |B         |1                 |\n",
            "|2786   |70.331  |3       |امام خمینی           |10.549|1642097287913|0.9497490438071416|7.008 |32.8610878|51.5457812|0.0      |A         |1                 |\n",
            "|2786   |70.331  |3       |امام خمینی           |8.167 |1642704886845|0.925996217884006 |7.998 |32.8610878|51.5457812|0.0      |B         |2                 |\n",
            "|2793   |146.301 |7       |بیمارستان            |13.167|1641751443297|0.9065331064039194|13.996|32.8969697|51.5341962|0.0      |A         |1                 |\n",
            "+-------+--------+--------+---------------------+------+-------------+------------------+------+----------+----------+---------+----------+------------------+\n",
            "only showing top 10 rows\n",
            "\n"
          ]
        }
      ]
    },
    {
      "cell_type": "code",
      "source": [
        "data_location = pd.read_csv('/content/SERS_test.csv')\n",
        "data = pd.DataFrame(data_location)\n",
        "\n",
        "test =data.dropna()\n",
        "from pyspark.sql import SparkSession\n",
        "spark = SparkSession.builder \\\n",
        "    .master(\"local[1]\") \\\n",
        "    .appName(\"SparkByExamples.com\") \\\n",
        "    .getOrCreate()\n",
        "df_test = spark.createDataFrame(test) \n",
        "df_test.show(10,False)"
      ],
      "metadata": {
        "colab": {
          "base_uri": "https://localhost:8080/"
        },
        "id": "_maJq9Obi7kV",
        "outputId": "94566023-03ee-439f-fb1c-7a1b4f4f029a"
      },
      "execution_count": 6,
      "outputs": [
        {
          "output_type": "stream",
          "name": "stdout",
          "text": [
            "+-------+-------+--------+--------------------------+------+-------------+------------------+----------+----------+---------+----------+------------------+\n",
            "|edge_id|length |way_type|way_name                  |eta   |timestamp    |coverage          |latitude  |longitude |is_tunnel|user_group|way_segments_count|\n",
            "+-------+-------+--------+--------------------------+------+-------------+------------------+----------+----------+---------+----------+------------------+\n",
            "|90     |56.217 |10      |بزرگراه هاشمی رفسنجانی غرب|8.432 |1642941195020|0.9731913833893672|35.7709389|51.3405864|0        |A         |2                 |\n",
            "|152    |87.744 |8       |نسترن شرقی                |18.281|1642844765725|0.8553268599562364|35.7403673|51.4354609|0        |A         |3                 |\n",
            "|239    |68.373 |8       |بوستان                    |6.837 |1643355443479|0.933504307255788 |35.8001555|51.4748499|0        |A         |4                 |\n",
            "|277    |172.926|6       |زارع                      |38.938|1642757070378|0.9066660883846268|35.7424479|51.3306549|0        |B         |3                 |\n",
            "|359    |76.896 |8       |آذر                       |5.889 |1643254334361|0.8755852059925087|32.645556 |51.6593476|0        |A         |1                 |\n",
            "|721    |38.093 |8       |فاضل بجستانی              |19.233|1643200293187|1.1284225448245235|35.6487817|51.4796818|0        |A         |1                 |\n",
            "|1060   |94.189 |6       |رضایی                     |21.192|1643220518689|0.8562311947254988|35.718114 |51.4694538|0        |A         |1                 |\n",
            "|1431   |77.406 |3       |بلوار غدیر                |5.805 |1642749161552|0.944567604578456 |32.5502267|51.6812601|0        |B         |2                 |\n",
            "|1709   |70.331 |3       |امام خمینی                |9.377 |1642837492676|0.8690492101633704|32.8610878|51.5457812|0        |A         |1                 |\n",
            "|1913   |161.402|3       |بلوار آیت الله طالقانی    |11.62 |1643007171268|0.980098759618842 |32.7891656|51.6993189|0        |A         |2                 |\n",
            "+-------+-------+--------+--------------------------+------+-------------+------------------+----------+----------+---------+----------+------------------+\n",
            "only showing top 10 rows\n",
            "\n"
          ]
        }
      ]
    },
    {
      "cell_type": "markdown",
      "source": [
        "# **Insight**"
      ],
      "metadata": {
        "id": "QHlVYXhIjHwl"
      }
    },
    {
      "cell_type": "code",
      "source": [
        "df_train.count()"
      ],
      "metadata": {
        "colab": {
          "base_uri": "https://localhost:8080/"
        },
        "id": "T2hBLFeDm-C1",
        "outputId": "8f7a3878-9df4-487b-f103-003f5df6e961"
      },
      "execution_count": null,
      "outputs": [
        {
          "output_type": "execute_result",
          "data": {
            "text/plain": [
              "161573"
            ]
          },
          "metadata": {},
          "execution_count": 8
        }
      ]
    },
    {
      "cell_type": "code",
      "source": [
        "df_test.count()"
      ],
      "metadata": {
        "colab": {
          "base_uri": "https://localhost:8080/"
        },
        "id": "OztsIrl9C_mD",
        "outputId": "7e0b1974-1c85-4632-b813-af2a70569750"
      },
      "execution_count": null,
      "outputs": [
        {
          "output_type": "execute_result",
          "data": {
            "text/plain": [
              "70739"
            ]
          },
          "metadata": {},
          "execution_count": 9
        }
      ]
    },
    {
      "cell_type": "code",
      "source": [
        "df_train.groupBy('edge_id').agg(F.count(F.lit(1)).alias('count')).groupBy('count').agg(F.count(F.lit(1))).orderBy('count').show(100,False)"
      ],
      "metadata": {
        "colab": {
          "base_uri": "https://localhost:8080/"
        },
        "id": "HyMAkXy1dd-J",
        "outputId": "336021d3-6e40-4554-86e0-39865af4554d"
      },
      "execution_count": null,
      "outputs": [
        {
          "output_type": "stream",
          "name": "stdout",
          "text": [
            "+-----+--------+\n",
            "|count|count(1)|\n",
            "+-----+--------+\n",
            "|1    |83453   |\n",
            "|2    |23428   |\n",
            "|3    |6679    |\n",
            "|4    |1837    |\n",
            "|5    |448     |\n",
            "|6    |120     |\n",
            "|7    |53      |\n",
            "|8    |22      |\n",
            "|9    |5       |\n",
            "|10   |6       |\n",
            "|11   |1       |\n",
            "|12   |3       |\n",
            "|13   |1       |\n",
            "|14   |1       |\n",
            "|16   |1       |\n",
            "|17   |1       |\n",
            "|19   |3       |\n",
            "|20   |2       |\n",
            "|30   |1       |\n",
            "|33   |1       |\n",
            "+-----+--------+\n",
            "\n"
          ]
        }
      ]
    },
    {
      "cell_type": "code",
      "source": [
        "(\n",
        "    df_train.groupBy('way_type')\n",
        "            .agg(F.count(F.lit(1)).alias('count'))\n",
        "            .withColumn('share',F.round(100*(F.col('count')/(F.sum('count').over(Window.partitionBy()))),2))\n",
        "            .orderBy('way_type')\n",
        "            .show()\n",
        ")"
      ],
      "metadata": {
        "colab": {
          "base_uri": "https://localhost:8080/"
        },
        "id": "7Tu5byHTkRZ_",
        "outputId": "b2b98745-75f2-4092-d5cd-2c59b2eaed7b"
      },
      "execution_count": null,
      "outputs": [
        {
          "output_type": "stream",
          "name": "stdout",
          "text": [
            "+--------+-----+-----+\n",
            "|way_type|count|share|\n",
            "+--------+-----+-----+\n",
            "|       0|    2|  0.0|\n",
            "|       1|  989| 0.61|\n",
            "|       2|  145| 0.09|\n",
            "|       3|45758|28.32|\n",
            "|       4|  603| 0.37|\n",
            "|       5|  198| 0.12|\n",
            "|       6|24041|14.88|\n",
            "|       7|68366|42.31|\n",
            "|       8|    4|  0.0|\n",
            "|       9|20561|12.73|\n",
            "|      10|  906| 0.56|\n",
            "+--------+-----+-----+\n",
            "\n"
          ]
        }
      ]
    },
    {
      "cell_type": "code",
      "source": [
        "(\n",
        "    df_train.groupBy('is_tunnel')\n",
        "            .agg(F.count(F.lit(1)).alias('count'))\n",
        "            .withColumn('share',F.round(100*(F.col('count')/(F.sum('count').over(Window.partitionBy()))),2))\n",
        "            .orderBy('is_tunnel')\n",
        "            .show()\n",
        ")"
      ],
      "metadata": {
        "colab": {
          "base_uri": "https://localhost:8080/"
        },
        "id": "fTFaBoWLl0zM",
        "outputId": "64327096-504e-4cec-f37e-9f86d96d3870"
      },
      "execution_count": null,
      "outputs": [
        {
          "output_type": "stream",
          "name": "stdout",
          "text": [
            "+---------+------+-----+\n",
            "|is_tunnel| count|share|\n",
            "+---------+------+-----+\n",
            "|      0.0|161542|99.98|\n",
            "|      1.0|    31| 0.02|\n",
            "+---------+------+-----+\n",
            "\n"
          ]
        }
      ]
    },
    {
      "cell_type": "code",
      "source": [
        "(\n",
        "    df_train.filter(F.col('is_tunnel')==1)\n",
        "            .withColumn('speed',F.col('length')/F.col('ata')*3.6)\n",
        "            .drop('latitude','longitude','user_group','is_tunnel','timestamp')\n",
        ").show(31,False)"
      ],
      "metadata": {
        "colab": {
          "base_uri": "https://localhost:8080/"
        },
        "id": "QpdnAWvymDFM",
        "outputId": "ab8bf26a-7ffd-4e52-b880-16282be67b8c"
      },
      "execution_count": null,
      "outputs": [
        {
          "output_type": "stream",
          "name": "stdout",
          "text": [
            "+-------+----------+--------+-----------------------+------+------------------+------+------------------+------------------+\n",
            "|edge_id|length    |way_type|way_name               |eta   |coverage          |ata   |way_segments_count|speed             |\n",
            "+-------+----------+--------+-----------------------+------+------------------+------+------------------+------------------+\n",
            "|38510  |342.083   |3       |دانشگاه                |22.805|0.98516675777516  |39.993|1                 |30.792858750281304|\n",
            "|61610  |429.256   |9       |جاده حمیل - شباب       |21.168|0.9743369923775044|25.52 |1                 |60.55335423197492 |\n",
            "|25987  |114.684   |9       |جاده فیروزآباد - کوار  |9.553 |0.9013899061769732|6.501 |2                 |63.50752191970465 |\n",
            "|108233 |90.623    |9       |جاده یاسوج - بابامیدان |5.178 |0.8786290456066419|4.504 |1                 |72.4340142095915  |\n",
            "|102376 |167.351   |9       |جاده قائمشهر - سوادکوه |8.731 |0.9038487968401648|9.489 |1                 |63.490736642428075|\n",
            "|67445  |117.716   |3       |بزرگراه کوهسار مهدی    |6.141 |0.9811503958680208|7.001 |2                 |60.53100985573489 |\n",
            "|40002  |100.212   |7       |زیرگذر طرشت            |30.751|0.907326467888079 |30.002|1                 |12.02463835744284 |\n",
            "|92816  |324.992   |9       |جاده برازجان - قائمیه  |16.956|0.957571263292639 |18.618|1                 |62.84086368030939 |\n",
            "|83338  |226.042   |9       |بلوار ضیاالدینی        |15.955|0.8973947319524698|22.003|2                 |36.98364768440668 |\n",
            "|349    |1269.804  |9       |تونل رسالت             |71.426|0.9837683611013978|62.43 |3                 |73.22271984622778 |\n",
            "|42139  |164.132   |7       |افشاری                 |15.969|0.9593077522969328|13.487|1                 |43.810721435456365|\n",
            "|42139  |164.132   |7       |افشاری                 |12.571|0.8220429897887064|8.511 |4                 |69.42488544236872 |\n",
            "|42138  |164.132   |7       |افشاری                 |12.571|0.8952501645017412|9.519 |1                 |62.07324298770879 |\n",
            "|42139  |164.132   |7       |افشاری                 |17.378|0.8837862208466355|12.838|1                 |46.02548683595577 |\n",
            "|32527  |593.87    |9       |جاده چالوس             |41.92 |0.966507821577106 |34.5  |1                 |61.96904347826087 |\n",
            "|77084  |132.598999|9       |جاده حمیل - شباب       |6.539 |0.9553013292355284|9.501 |1                 |50.24275301547206 |\n",
            "|112787 |196.302   |6       |بلوک                   |35.334|0.9909547024482684|47.091|2                 |15.006842071733452|\n",
            "|107815 |179.246   |3       |بلوار فتح المبین       |12.409|0.951784977070618 |11.478|1                 |56.21934134866702 |\n",
            "|107815 |179.246   |3       |بلوار فتح المبین       |10.578|0.9043158564207812|7.999 |2                 |80.670783847981   |\n",
            "|107815 |179.246   |3       |بلوار فتح المبین       |10.407|0.952696294477984 |10.005|1                 |64.49631184407797 |\n",
            "|82652  |78.877    |3       |طبرسی                  |7.887 |0.9434494212508072|7.51  |3                 |37.810545938748334|\n",
            "|32915  |1567.47   |9       |جاده هراز              |80.612|0.993722367892202 |75.975|2                 |74.27301085883515 |\n",
            "|103916 |364.373   |9       |جاده شیروان - بجنورد   |17.035|0.8830237147099264|16.027|1                 |81.84581019529544 |\n",
            "|64134  |771.004   |3       |هاشمی رفسنجانی         |47.855|0.9922933344055282|45.514|2                 |60.983750054928144|\n",
            "|24848  |170.976   |9       |جاده رودبار - منجیل    |15.782|0.995022693243496 |9.004 |1                 |68.36001776988006 |\n",
            "|56025  |409.021   |7       |زیرگذر ضربعلی زاده     |27.268|0.981269176888228 |24.497|1                 |60.1084051108299  |\n",
            "|56025  |409.021   |7       |زیرگذر ضربعلی زاده     |29.449|0.9792964175433532|25.034|1                 |58.81903011903812 |\n",
            "|56025  |409.021   |7       |زیرگذر ضربعلی زاده     |28.316|0.8960681725388181|18.521|3                 |79.50302899411479 |\n",
            "|46661  |359.821   |3       |بلوار نبوت             |31.785|0.9788783867534172|26.537|2                 |48.81318913215511 |\n",
            "|32484  |337.341   |1       |آزادراه مرزن آباد-چالوس|13.645|0.9347929839539248|10.016|3                 |121.24876198083066|\n",
            "|38490  |100.078   |7       |شیرازی                 |9.737 |1.03025040468435  |7.494 |2                 |48.07590072057646 |\n",
            "+-------+----------+--------+-----------------------+------+------------------+------+------------------+------------------+\n",
            "\n"
          ]
        }
      ]
    },
    {
      "cell_type": "code",
      "source": [
        "df_cleaned = (\n",
        "    df_train.withColumn('speed',F.col('length')/F.col('ata')*3.6)\n",
        "            .withColumn('createdAt',F.from_unixtime(F.col('timestamp')/1000))\n",
        "            .withColumn('timeOfDay',F.hour('createdAt')+F.round(F.minute('createdAt')/60,2))\n",
        "            .withColumn('dayOfWeek',F.dayofweek('createdAt'))\n",
        "            .withColumn('target',F.col('eta')/F.col('ata'))\n",
        "            .withColumn('isInTehran',((F.col('latitude').between(35.58,35.85)) & (F.col('longitude').between(51.1,51.6))).cast('integer'))\n",
        "            .withColumn('targetError',F.abs(100*((F.col('eta')-F.col('ata'))/F.col('ata'))))\n",
        ").persist()"
      ],
      "metadata": {
        "id": "nGl74rZfjHYW"
      },
      "execution_count": 7,
      "outputs": []
    },
    {
      "cell_type": "code",
      "source": [
        "(\n",
        "    df_cleaned.groupBy('way_segments_count')\n",
        "              .agg(F.round(F.mean('targetError'),2).alias('error rate'))\n",
        "              .orderBy('way_segments_count')\n",
        ").show(100,False)"
      ],
      "metadata": {
        "colab": {
          "base_uri": "https://localhost:8080/"
        },
        "id": "4rxpP4FRrSaM",
        "outputId": "9c942a05-fb23-454e-8caa-c48dbbc70ebb"
      },
      "execution_count": null,
      "outputs": [
        {
          "output_type": "stream",
          "name": "stdout",
          "text": [
            "+------------------+----------+\n",
            "|way_segments_count|error rate|\n",
            "+------------------+----------+\n",
            "|1                 |35.27     |\n",
            "|2                 |35.27     |\n",
            "|3                 |35.94     |\n",
            "|4                 |35.37     |\n",
            "+------------------+----------+\n",
            "\n"
          ]
        }
      ]
    },
    {
      "cell_type": "code",
      "source": [
        "(\n",
        "    df_cleaned.groupBy('isInTehran')\n",
        "              .agg(F.round(F.mean('targetError'),2).alias('error rate'))\n",
        "              .orderBy('isInTehran')\n",
        ").show(100,False)"
      ],
      "metadata": {
        "colab": {
          "base_uri": "https://localhost:8080/"
        },
        "id": "kFIyUAMA-4vs",
        "outputId": "9af5eb69-59a7-4fcf-8c92-68016e5ee2f0"
      },
      "execution_count": null,
      "outputs": [
        {
          "output_type": "stream",
          "name": "stdout",
          "text": [
            "+----------+----------+\n",
            "|isInTehran|error rate|\n",
            "+----------+----------+\n",
            "|0         |33.48     |\n",
            "|1         |41.01     |\n",
            "+----------+----------+\n",
            "\n"
          ]
        }
      ]
    },
    {
      "cell_type": "code",
      "source": [
        "(\n",
        "    df_cleaned.groupBy('way_type')\n",
        "              .agg(F.round(F.mean('targetError'),2).alias('error rate'))\n",
        "              .orderBy('way_type')\n",
        ").show(100,False)"
      ],
      "metadata": {
        "colab": {
          "base_uri": "https://localhost:8080/"
        },
        "id": "ZjnISby44XjF",
        "outputId": "30fae617-dbea-4346-b9d4-a4c6181b696d"
      },
      "execution_count": null,
      "outputs": [
        {
          "output_type": "stream",
          "name": "stdout",
          "text": [
            "+--------+----------+\n",
            "|way_type|error rate|\n",
            "+--------+----------+\n",
            "|0       |72.11     |\n",
            "|1       |17.94     |\n",
            "|2       |34.23     |\n",
            "|3       |33.85     |\n",
            "|4       |44.96     |\n",
            "|5       |35.74     |\n",
            "|6       |43.52     |\n",
            "|7       |37.75     |\n",
            "|8       |56.91     |\n",
            "|9       |22.06     |\n",
            "|10      |36.59     |\n",
            "+--------+----------+\n",
            "\n"
          ]
        }
      ]
    },
    {
      "cell_type": "code",
      "source": [
        "df_coverage = (\n",
        "    df_cleaned.withColumn('coverageBucket',F.round(0.01*F.round(F.col('coverage')/0.01),2))\n",
        "              .groupBy('coverageBucket')\n",
        "              .agg(F.round(F.mean('targetError'),2).alias('error rate'))\n",
        "              .orderBy('coverageBucket')\n",
        ")\n",
        "\n",
        "df_coverage.show(100,False)"
      ],
      "metadata": {
        "colab": {
          "base_uri": "https://localhost:8080/"
        },
        "id": "a-b4ADytp-8m",
        "outputId": "a2499aad-7721-4f24-f96a-9bbd594726eb"
      },
      "execution_count": null,
      "outputs": [
        {
          "output_type": "stream",
          "name": "stdout",
          "text": [
            "+--------------+----------+\n",
            "|coverageBucket|error rate|\n",
            "+--------------+----------+\n",
            "|0.8           |62.19     |\n",
            "|0.81          |59.27     |\n",
            "|0.82          |57.63     |\n",
            "|0.83          |54.53     |\n",
            "|0.84          |52.4      |\n",
            "|0.85          |51.37     |\n",
            "|0.86          |46.22     |\n",
            "|0.87          |44.62     |\n",
            "|0.88          |41.94     |\n",
            "|0.89          |40.87     |\n",
            "|0.9           |37.03     |\n",
            "|0.91          |35.61     |\n",
            "|0.92          |33.94     |\n",
            "|0.93          |32.27     |\n",
            "|0.94          |30.82     |\n",
            "|0.95          |29.03     |\n",
            "|0.96          |27.05     |\n",
            "|0.97          |25.82     |\n",
            "|0.98          |24.51     |\n",
            "|0.99          |22.3      |\n",
            "|1.0           |26.11     |\n",
            "|1.01          |30.87     |\n",
            "|1.02          |34.99     |\n",
            "|1.03          |36.89     |\n",
            "|1.04          |35.26     |\n",
            "|1.05          |36.13     |\n",
            "|1.06          |38.61     |\n",
            "|1.07          |38.26     |\n",
            "|1.08          |40.25     |\n",
            "|1.09          |40.19     |\n",
            "|1.1           |40.18     |\n",
            "|1.11          |47.3      |\n",
            "|1.12          |45.35     |\n",
            "|1.13          |46.33     |\n",
            "|1.14          |40.08     |\n",
            "|1.15          |32.05     |\n",
            "|1.16          |38.0      |\n",
            "|1.17          |39.84     |\n",
            "|1.18          |46.59     |\n",
            "|1.19          |41.28     |\n",
            "|1.2           |43.73     |\n",
            "|1.21          |41.47     |\n",
            "|1.22          |40.23     |\n",
            "|1.23          |46.81     |\n",
            "|1.24          |60.49     |\n",
            "|1.25          |50.59     |\n",
            "|1.26          |57.47     |\n",
            "|1.27          |60.03     |\n",
            "|1.28          |37.89     |\n",
            "|1.29          |50.16     |\n",
            "|1.3           |40.81     |\n",
            "|1.31          |47.18     |\n",
            "|1.32          |46.9      |\n",
            "|1.33          |31.62     |\n",
            "|1.34          |41.51     |\n",
            "|1.35          |53.07     |\n",
            "|1.36          |39.05     |\n",
            "|1.37          |61.25     |\n",
            "|1.38          |38.67     |\n",
            "|1.39          |32.18     |\n",
            "|1.4           |41.54     |\n",
            "|1.41          |75.84     |\n",
            "|1.42          |44.53     |\n",
            "|1.43          |33.35     |\n",
            "|1.44          |51.18     |\n",
            "|1.45          |34.9      |\n",
            "|1.46          |34.31     |\n",
            "|1.47          |55.65     |\n",
            "|1.48          |38.98     |\n",
            "|1.49          |69.63     |\n",
            "|1.5           |60.34     |\n",
            "|1.51          |20.97     |\n",
            "|1.52          |34.67     |\n",
            "|1.53          |43.81     |\n",
            "|1.54          |44.83     |\n",
            "|1.55          |45.92     |\n",
            "|1.56          |47.21     |\n",
            "|1.57          |43.18     |\n",
            "|1.58          |32.33     |\n",
            "|1.59          |45.24     |\n",
            "|1.6           |68.58     |\n",
            "|1.61          |24.3      |\n",
            "|1.62          |50.91     |\n",
            "|1.63          |35.32     |\n",
            "|1.64          |54.79     |\n",
            "|1.65          |41.39     |\n",
            "|1.66          |38.17     |\n",
            "|1.67          |41.06     |\n",
            "|1.68          |38.57     |\n",
            "|1.69          |47.45     |\n",
            "|1.7           |41.26     |\n",
            "|1.71          |29.52     |\n",
            "|1.72          |57.05     |\n",
            "|1.73          |43.26     |\n",
            "|1.74          |41.47     |\n",
            "|1.75          |60.51     |\n",
            "|1.76          |124.57    |\n",
            "|1.77          |54.13     |\n",
            "|1.78          |54.28     |\n",
            "|1.79          |58.17     |\n",
            "+--------------+----------+\n",
            "only showing top 100 rows\n",
            "\n"
          ]
        }
      ]
    },
    {
      "cell_type": "code",
      "source": [
        "coverage_plot = df_coverage.toPandas()\n",
        "sns.lineplot(data = coverage_plot[coverage_plot['coverageBucket']<1.2\n",
        "                                ] , x='coverageBucket',y='error rate' )"
      ],
      "metadata": {
        "colab": {
          "base_uri": "https://localhost:8080/",
          "height": 297
        },
        "id": "p-WlH2dFEWm7",
        "outputId": "2a6ef768-8cd1-4b33-b527-255acd358250"
      },
      "execution_count": null,
      "outputs": [
        {
          "output_type": "execute_result",
          "data": {
            "text/plain": [
              "<matplotlib.axes._subplots.AxesSubplot at 0x7fb44f403c10>"
            ]
          },
          "metadata": {},
          "execution_count": 19
        },
        {
          "output_type": "display_data",
          "data": {
            "text/plain": [
              "<Figure size 432x288 with 1 Axes>"
            ],
            "image/png": "[encoded data removed]"
          },
          "metadata": {
            "needs_background": "light"
          }
        }
      ]
    },
    {
      "cell_type": "code",
      "source": [
        "hist_plot = df_cleaned.toPandas()\n",
        "\n"
      ],
      "metadata": {
        "colab": {
          "base_uri": "https://localhost:8080/",
          "height": 300
        },
        "id": "IMvTl3EwI38z",
        "outputId": "09d2589a-f909-4c22-a043-90cac6f38f1b"
      },
      "execution_count": null,
      "outputs": [
        {
          "output_type": "execute_result",
          "data": {
            "text/plain": [
              "<matplotlib.axes._subplots.AxesSubplot at 0x7fb45164f810>"
            ]
          },
          "metadata": {},
          "execution_count": 24
        },
        {
          "output_type": "display_data",
          "data": {
            "text/plain": [
              "<Figure size 432x288 with 1 Axes>"
            ],
            "image/png": "[encoded data removed]"
          },
          "metadata": {
            "needs_background": "light"
          }
        }
      ]
    },
    {
      "cell_type": "code",
      "source": [
        "sns.histplot(data=hist_plot,x='dayOfWeek',stat='probability')"
      ],
      "metadata": {
        "colab": {
          "base_uri": "https://localhost:8080/",
          "height": 297
        },
        "id": "GpuvSmPqJKIF",
        "outputId": "9767200d-6502-4071-ecb2-9a38efdaf998"
      },
      "execution_count": null,
      "outputs": [
        {
          "output_type": "execute_result",
          "data": {
            "text/plain": [
              "<matplotlib.axes._subplots.AxesSubplot at 0x7fb44abe5bd0>"
            ]
          },
          "metadata": {},
          "execution_count": 28
        },
        {
          "output_type": "display_data",
          "data": {
            "text/plain": [
              "<Figure size 432x288 with 1 Axes>"
            ],
            "image/png": "[encoded data removed]"
          },
          "metadata": {
            "needs_background": "light"
          }
        }
      ]
    },
    {
      "cell_type": "code",
      "source": [
        "sns.histplot(data=hist_plot,x='latitude',stat='probability')"
      ],
      "metadata": {
        "colab": {
          "base_uri": "https://localhost:8080/",
          "height": 297
        },
        "id": "WVivRTefKFx0",
        "outputId": "8541e050-c99f-469a-d616-4e6e94ef90d1"
      },
      "execution_count": null,
      "outputs": [
        {
          "output_type": "execute_result",
          "data": {
            "text/plain": [
              "<matplotlib.axes._subplots.AxesSubplot at 0x7fb44c2c1ad0>"
            ]
          },
          "metadata": {},
          "execution_count": 29
        },
        {
          "output_type": "display_data",
          "data": {
            "text/plain": [
              "<Figure size 432x288 with 1 Axes>"
            ],
            "image/png": "[encoded data removed]"
          },
          "metadata": {
            "needs_background": "light"
          }
        }
      ]
    },
    {
      "cell_type": "code",
      "source": [
        "sns.histplot(data=hist_plot,x='longitude',stat='probability')"
      ],
      "metadata": {
        "colab": {
          "base_uri": "https://localhost:8080/",
          "height": 297
        },
        "id": "FRHKuevNKK87",
        "outputId": "02cfc3b6-3189-4474-a358-a40f83649014"
      },
      "execution_count": null,
      "outputs": [
        {
          "output_type": "execute_result",
          "data": {
            "text/plain": [
              "<matplotlib.axes._subplots.AxesSubplot at 0x7fb44eccdc50>"
            ]
          },
          "metadata": {},
          "execution_count": 31
        },
        {
          "output_type": "display_data",
          "data": {
            "text/plain": [
              "<Figure size 432x288 with 1 Axes>"
            ],
            "image/png": "[encoded data removed]"
          },
          "metadata": {
            "needs_background": "light"
          }
        }
      ]
    },
    {
      "cell_type": "code",
      "source": [
        "df_length = (\n",
        "    df_cleaned.withColumn('lengthBucket',F.round(10*F.round(F.col('length')/10),0))\n",
        "              .groupBy('lengthBucket')\n",
        "              .agg(F.round(F.mean('targetError'),2).alias('error rate'))\n",
        "              .orderBy('lengthBucket')\n",
        ")\n",
        "\n",
        "df_length.show(100,False)"
      ],
      "metadata": {
        "colab": {
          "base_uri": "https://localhost:8080/"
        },
        "id": "ALcw6l36HBrb",
        "outputId": "087b0d6e-822a-45d7-d271-616458d564d6"
      },
      "execution_count": null,
      "outputs": [
        {
          "output_type": "stream",
          "name": "stdout",
          "text": [
            "+------------+----------+\n",
            "|lengthBucket|error rate|\n",
            "+------------+----------+\n",
            "|0.0         |24.95     |\n",
            "|10.0        |65.83     |\n",
            "|20.0        |49.24     |\n",
            "|30.0        |43.73     |\n",
            "|40.0        |43.05     |\n",
            "|50.0        |40.87     |\n",
            "|60.0        |41.76     |\n",
            "|70.0        |40.32     |\n",
            "|80.0        |40.21     |\n",
            "|90.0        |40.02     |\n",
            "|100.0       |38.84     |\n",
            "|110.0       |36.84     |\n",
            "|120.0       |35.73     |\n",
            "|130.0       |34.32     |\n",
            "|140.0       |34.29     |\n",
            "|150.0       |32.3      |\n",
            "|160.0       |31.51     |\n",
            "|170.0       |31.15     |\n",
            "|180.0       |29.0      |\n",
            "|190.0       |29.03     |\n",
            "|200.0       |28.63     |\n",
            "|210.0       |28.85     |\n",
            "|220.0       |27.89     |\n",
            "|230.0       |27.05     |\n",
            "|240.0       |25.26     |\n",
            "|250.0       |25.77     |\n",
            "|260.0       |25.9      |\n",
            "|270.0       |24.73     |\n",
            "|280.0       |23.82     |\n",
            "|290.0       |22.89     |\n",
            "|300.0       |22.34     |\n",
            "|310.0       |22.06     |\n",
            "|320.0       |22.37     |\n",
            "|330.0       |21.89     |\n",
            "|340.0       |22.01     |\n",
            "|350.0       |21.43     |\n",
            "|360.0       |20.06     |\n",
            "|370.0       |20.02     |\n",
            "|380.0       |21.41     |\n",
            "|390.0       |19.86     |\n",
            "|400.0       |18.33     |\n",
            "|410.0       |19.91     |\n",
            "|420.0       |19.86     |\n",
            "|430.0       |18.08     |\n",
            "|440.0       |18.05     |\n",
            "|450.0       |18.96     |\n",
            "|460.0       |18.27     |\n",
            "|470.0       |17.58     |\n",
            "|480.0       |18.28     |\n",
            "|490.0       |16.64     |\n",
            "|500.0       |18.63     |\n",
            "|510.0       |20.08     |\n",
            "|520.0       |17.74     |\n",
            "|530.0       |17.56     |\n",
            "|540.0       |18.58     |\n",
            "|550.0       |16.19     |\n",
            "|560.0       |18.53     |\n",
            "|570.0       |18.09     |\n",
            "|580.0       |17.92     |\n",
            "|590.0       |16.08     |\n",
            "|600.0       |18.95     |\n",
            "|610.0       |17.17     |\n",
            "|620.0       |20.62     |\n",
            "|630.0       |16.69     |\n",
            "|640.0       |15.51     |\n",
            "|650.0       |16.37     |\n",
            "|660.0       |15.99     |\n",
            "|670.0       |15.87     |\n",
            "|680.0       |15.56     |\n",
            "|690.0       |17.55     |\n",
            "|700.0       |18.06     |\n",
            "|710.0       |14.03     |\n",
            "|720.0       |15.22     |\n",
            "|730.0       |16.9      |\n",
            "|740.0       |15.5      |\n",
            "|750.0       |14.78     |\n",
            "|760.0       |17.16     |\n",
            "|770.0       |16.07     |\n",
            "|780.0       |17.47     |\n",
            "|790.0       |16.1      |\n",
            "|800.0       |12.78     |\n",
            "|810.0       |17.73     |\n",
            "|820.0       |17.79     |\n",
            "|830.0       |11.53     |\n",
            "|840.0       |16.21     |\n",
            "|850.0       |14.57     |\n",
            "|860.0       |13.89     |\n",
            "|870.0       |15.33     |\n",
            "|880.0       |60.2      |\n",
            "|890.0       |17.56     |\n",
            "|900.0       |13.32     |\n",
            "|910.0       |17.14     |\n",
            "|920.0       |15.07     |\n",
            "|930.0       |16.14     |\n",
            "|940.0       |16.48     |\n",
            "|950.0       |15.73     |\n",
            "|960.0       |12.71     |\n",
            "|970.0       |18.64     |\n",
            "|980.0       |12.61     |\n",
            "|990.0       |14.71     |\n",
            "+------------+----------+\n",
            "only showing top 100 rows\n",
            "\n"
          ]
        }
      ]
    },
    {
      "cell_type": "code",
      "source": [
        "length_plot = df_length.toPandas()\n",
        "sns.lineplot(data = length_plot[length_plot['lengthBucket']<800\n",
        "                                ] , x='lengthBucket',y='error rate' )"
      ],
      "metadata": {
        "colab": {
          "base_uri": "https://localhost:8080/",
          "height": 297
        },
        "id": "rzmh3kStHKKP",
        "outputId": "cbe4017e-9ecf-4ae8-c906-a81f7c5afef4"
      },
      "execution_count": null,
      "outputs": [
        {
          "output_type": "execute_result",
          "data": {
            "text/plain": [
              "<matplotlib.axes._subplots.AxesSubplot at 0x7fb44f3c5910>"
            ]
          },
          "metadata": {},
          "execution_count": 23
        },
        {
          "output_type": "display_data",
          "data": {
            "text/plain": [
              "<Figure size 432x288 with 1 Axes>"
            ],
            "image/png": "[encoded data removed]"
          },
          "metadata": {
            "needs_background": "light"
          }
        }
      ]
    },
    {
      "cell_type": "code",
      "source": [
        "insight = (\n",
        "    df_cleaned.select('length','coverage','speed','way_segments_count','target','targetError')\n",
        ").toPandas()\n",
        "\n",
        "insight.describe(percentiles=[0.01,0.05,0.1,0.25,0.5,0.75,0.9,0.95,0.99])"
      ],
      "metadata": {
        "colab": {
          "base_uri": "https://localhost:8080/",
          "height": 488
        },
        "id": "wqFqlPg8nGIC",
        "outputId": "a7b8305a-aa1c-474b-dcdc-009adb5b5033"
      },
      "execution_count": null,
      "outputs": [
        {
          "output_type": "execute_result",
          "data": {
            "text/plain": [
              "              length       coverage          speed  way_segments_count  \\\n",
              "count  161573.000000  161573.000000  161573.000000       161573.000000   \n",
              "mean      200.856106       0.931024      37.365013            1.908902   \n",
              "std       551.003186       0.173169      22.713836            0.996361   \n",
              "min         3.791000       0.800002       0.150230            1.000000   \n",
              "1%         24.555000       0.804690       4.033068            1.000000   \n",
              "5%         34.891600       0.822583      10.341573            1.000000   \n",
              "10%        42.248400       0.841124      14.468336            1.000000   \n",
              "25%        57.671000       0.884538      21.942444            1.000000   \n",
              "50%        92.006000       0.931879      32.293525            2.000000   \n",
              "75%       169.973000       0.966720      46.783901            3.000000   \n",
              "90%       343.142000       0.987027      67.343600            3.000000   \n",
              "95%       598.136000       0.995663      84.923298            4.000000   \n",
              "99%      2009.220960       1.131447     113.840620            4.000000   \n",
              "max     27129.594000      27.413967     190.150927            4.000000   \n",
              "\n",
              "              target    targetError  \n",
              "count  161573.000000  161573.000000  \n",
              "mean        1.066850      35.402148  \n",
              "std         1.418421      43.509038  \n",
              "min         0.030222       0.000000  \n",
              "1%          0.324406       0.366871  \n",
              "5%          0.457484       1.892926  \n",
              "10%         0.562405       3.803060  \n",
              "25%         0.749099       9.720885  \n",
              "50%         0.925015      21.818454  \n",
              "75%         1.131262      43.947263  \n",
              "90%         1.461611      81.307042  \n",
              "95%         1.844311     118.587038  \n",
              "99%         4.093987     208.255979  \n",
              "max       158.267760    3208.872782  "
            ],
            "text/html": [
              "\n",
              "  <div id=\"df-0c100491-5637-4cb2-b50b-a7ecedbda2e6\">\n",
              "    <div class=\"colab-df-container\">\n",
              "      <div>\n",
              "<style scoped>\n",
              "    .dataframe tbody tr th:only-of-type {\n",
              "        vertical-align: middle;\n",
              "    }\n",
              "\n",
              "    .dataframe tbody tr th {\n",
              "        vertical-align: top;\n",
              "    }\n",
              "\n",
              "    .dataframe thead th {\n",
              "        text-align: right;\n",
              "    }\n",
              "</style>\n",
              "<table border=\"1\" class=\"dataframe\">\n",
              "  <thead>\n",
              "    <tr style=\"text-align: right;\">\n",
              "      <th></th>\n",
              "      <th>length</th>\n",
              "      <th>coverage</th>\n",
              "      <th>speed</th>\n",
              "      <th>way_segments_count</th>\n",
              "      <th>target</th>\n",
              "      <th>targetError</th>\n",
              "    </tr>\n",
              "  </thead>\n",
              "  <tbody>\n",
              "    <tr>\n",
              "      <th>count</th>\n",
              "      <td>161573.000000</td>\n",
              "      <td>161573.000000</td>\n",
              "      <td>161573.000000</td>\n",
              "      <td>161573.000000</td>\n",
              "      <td>161573.000000</td>\n",
              "      <td>161573.000000</td>\n",
              "    </tr>\n",
              "    <tr>\n",
              "      <th>mean</th>\n",
              "      <td>200.856106</td>\n",
              "      <td>0.931024</td>\n",
              "      <td>37.365013</td>\n",
              "      <td>1.908902</td>\n",
              "      <td>1.066850</td>\n",
              "      <td>35.402148</td>\n",
              "    </tr>\n",
              "    <tr>\n",
              "      <th>std</th>\n",
              "      <td>551.003186</td>\n",
              "      <td>0.173169</td>\n",
              "      <td>22.713836</td>\n",
              "      <td>0.996361</td>\n",
              "      <td>1.418421</td>\n",
              "      <td>43.509038</td>\n",
              "    </tr>\n",
              "    <tr>\n",
              "      <th>min</th>\n",
              "      <td>3.791000</td>\n",
              "      <td>0.800002</td>\n",
              "      <td>0.150230</td>\n",
              "      <td>1.000000</td>\n",
              "      <td>0.030222</td>\n",
              "      <td>0.000000</td>\n",
              "    </tr>\n",
              "    <tr>\n",
              "      <th>1%</th>\n",
              "      <td>24.555000</td>\n",
              "      <td>0.804690</td>\n",
              "      <td>4.033068</td>\n",
              "      <td>1.000000</td>\n",
              "      <td>0.324406</td>\n",
              "      <td>0.366871</td>\n",
              "    </tr>\n",
              "    <tr>\n",
              "      <th>5%</th>\n",
              "      <td>34.891600</td>\n",
              "      <td>0.822583</td>\n",
              "      <td>10.341573</td>\n",
              "      <td>1.000000</td>\n",
              "      <td>0.457484</td>\n",
              "      <td>1.892926</td>\n",
              "    </tr>\n",
              "    <tr>\n",
              "      <th>10%</th>\n",
              "      <td>42.248400</td>\n",
              "      <td>0.841124</td>\n",
              "      <td>14.468336</td>\n",
              "      <td>1.000000</td>\n",
              "      <td>0.562405</td>\n",
              "      <td>3.803060</td>\n",
              "    </tr>\n",
              "    <tr>\n",
              "      <th>25%</th>\n",
              "      <td>57.671000</td>\n",
              "      <td>0.884538</td>\n",
              "      <td>21.942444</td>\n",
              "      <td>1.000000</td>\n",
              "      <td>0.749099</td>\n",
              "      <td>9.720885</td>\n",
              "    </tr>\n",
              "    <tr>\n",
              "      <th>50%</th>\n",
              "      <td>92.006000</td>\n",
              "      <td>0.931879</td>\n",
              "      <td>32.293525</td>\n",
              "      <td>2.000000</td>\n",
              "      <td>0.925015</td>\n",
              "      <td>21.818454</td>\n",
              "    </tr>\n",
              "    <tr>\n",
              "      <th>75%</th>\n",
              "      <td>169.973000</td>\n",
              "      <td>0.966720</td>\n",
              "      <td>46.783901</td>\n",
              "      <td>3.000000</td>\n",
              "      <td>1.131262</td>\n",
              "      <td>43.947263</td>\n",
              "    </tr>\n",
              "    <tr>\n",
              "      <th>90%</th>\n",
              "      <td>343.142000</td>\n",
              "      <td>0.987027</td>\n",
              "      <td>67.343600</td>\n",
              "      <td>3.000000</td>\n",
              "      <td>1.461611</td>\n",
              "      <td>81.307042</td>\n",
              "    </tr>\n",
              "    <tr>\n",
              "      <th>95%</th>\n",
              "      <td>598.136000</td>\n",
              "      <td>0.995663</td>\n",
              "      <td>84.923298</td>\n",
              "      <td>4.000000</td>\n",
              "      <td>1.844311</td>\n",
              "      <td>118.587038</td>\n",
              "    </tr>\n",
              "    <tr>\n",
              "      <th>99%</th>\n",
              "      <td>2009.220960</td>\n",
              "      <td>1.131447</td>\n",
              "      <td>113.840620</td>\n",
              "      <td>4.000000</td>\n",
              "      <td>4.093987</td>\n",
              "      <td>208.255979</td>\n",
              "    </tr>\n",
              "    <tr>\n",
              "      <th>max</th>\n",
              "      <td>27129.594000</td>\n",
              "      <td>27.413967</td>\n",
              "      <td>190.150927</td>\n",
              "      <td>4.000000</td>\n",
              "      <td>158.267760</td>\n",
              "      <td>3208.872782</td>\n",
              "    </tr>\n",
              "  </tbody>\n",
              "</table>\n",
              "</div>\n",
              "      <button class=\"colab-df-convert\" onclick=\"convertToInteractive('df-0c100491-5637-4cb2-b50b-a7ecedbda2e6')\"\n",
              "              title=\"Convert this dataframe to an interactive table.\"\n",
              "              style=\"display:none;\">\n",
              "        \n",
              "  <svg xmlns=\"http://www.w3.org/2000/svg\" height=\"24px\"viewBox=\"0 0 24 24\"\n",
              "       width=\"24px\">\n",
              "    <path d=\"M0 0h24v24H0V0z\" fill=\"none\"/>\n",
              "    <path d=\"M18.56 5.44l.94 2.06.94-2.06 2.06-.94-2.06-.94-.94-2.06-.94 2.06-2.06.94zm-11 1L8.5 8.5l.94-2.06 2.06-.94-2.06-.94L8.5 2.5l-.94 2.06-2.06.94zm10 10l.94 2.06.94-2.06 2.06-.94-2.06-.94-.94-2.06-.94 2.06-2.06.94z\"/><path d=\"M17.41 7.96l-1.37-1.37c-.4-.4-.92-.59-1.43-.59-.52 0-1.04.2-1.43.59L10.3 9.45l-7.72 7.72c-.78.78-.78 2.05 0 2.83L4 21.41c.39.39.9.59 1.41.59.51 0 1.02-.2 1.41-.59l7.78-7.78 2.81-2.81c.8-.78.8-2.07 0-2.86zM5.41 20L4 18.59l7.72-7.72 1.47 1.35L5.41 20z\"/>\n",
              "  </svg>\n",
              "      </button>\n",
              "      \n",
              "  <style>\n",
              "    .colab-df-container {\n",
              "      display:flex;\n",
              "      flex-wrap:wrap;\n",
              "      gap: 12px;\n",
              "    }\n",
              "\n",
              "    .colab-df-convert {\n",
              "      background-color: #E8F0FE;\n",
              "      border: none;\n",
              "      border-radius: 50%;\n",
              "      cursor: pointer;\n",
              "      display: none;\n",
              "      fill: #1967D2;\n",
              "      height: 32px;\n",
              "      padding: 0 0 0 0;\n",
              "      width: 32px;\n",
              "    }\n",
              "\n",
              "    .colab-df-convert:hover {\n",
              "      background-color: #E2EBFA;\n",
              "      box-shadow: 0px 1px 2px rgba(60, 64, 67, 0.3), 0px 1px 3px 1px rgba(60, 64, 67, 0.15);\n",
              "      fill: #174EA6;\n",
              "    }\n",
              "\n",
              "    [theme=dark] .colab-df-convert {\n",
              "      background-color: #3B4455;\n",
              "      fill: #D2E3FC;\n",
              "    }\n",
              "\n",
              "    [theme=dark] .colab-df-convert:hover {\n",
              "      background-color: #434B5C;\n",
              "      box-shadow: 0px 1px 3px 1px rgba(0, 0, 0, 0.15);\n",
              "      filter: drop-shadow(0px 1px 2px rgba(0, 0, 0, 0.3));\n",
              "      fill: #FFFFFF;\n",
              "    }\n",
              "  </style>\n",
              "\n",
              "      <script>\n",
              "        const buttonEl =\n",
              "          document.querySelector('#df-0c100491-5637-4cb2-b50b-a7ecedbda2e6 button.colab-df-convert');\n",
              "        buttonEl.style.display =\n",
              "          google.colab.kernel.accessAllowed ? 'block' : 'none';\n",
              "\n",
              "        async function convertToInteractive(key) {\n",
              "          const element = document.querySelector('#df-0c100491-5637-4cb2-b50b-a7ecedbda2e6');\n",
              "          const dataTable =\n",
              "            await google.colab.kernel.invokeFunction('convertToInteractive',\n",
              "                                                     [key], {});\n",
              "          if (!dataTable) return;\n",
              "\n",
              "          const docLinkHtml = 'Like what you see? Visit the ' +\n",
              "            '<a target=\"_blank\" href=https://colab.research.google.com/notebooks/data_table.ipynb>data table notebook</a>'\n",
              "            + ' to learn more about interactive tables.';\n",
              "          element.innerHTML = '';\n",
              "          dataTable['output_type'] = 'display_data';\n",
              "          await google.colab.output.renderOutput(dataTable, element);\n",
              "          const docLink = document.createElement('div');\n",
              "          docLink.innerHTML = docLinkHtml;\n",
              "          element.appendChild(docLink);\n",
              "        }\n",
              "      </script>\n",
              "    </div>\n",
              "  </div>\n",
              "  "
            ]
          },
          "metadata": {},
          "execution_count": 146
        }
      ]
    },
    {
      "cell_type": "code",
      "source": [
        "(\n",
        "    df_cleaned.filter(F.col('speed')<=150)\n",
        "              .filter(F.col('coverage').between(0.85,1.05))\n",
        "              .filter(F.col('is_tunnel')==0)\n",
        "              .filter(F.col('length')<=2500)\n",
        "              #.filter(F.col('way_type').isin([3,6,7,9]))\n",
        "              #.filter(F.col('way_type')==6)\n",
        "              .agg(F.round(F.mean('targetError'),2).alias('error rate'))\n",
        ").show()"
      ],
      "metadata": {
        "colab": {
          "base_uri": "https://localhost:8080/"
        },
        "id": "RKknkZH9274O",
        "outputId": "083b94ee-872e-4ec7-e126-f09d2e865ff3"
      },
      "execution_count": null,
      "outputs": [
        {
          "output_type": "stream",
          "name": "stdout",
          "text": [
            "+----------+\n",
            "|error rate|\n",
            "+----------+\n",
            "|     32.38|\n",
            "+----------+\n",
            "\n"
          ]
        }
      ]
    },
    {
      "cell_type": "code",
      "source": [
        "df_features = (\n",
        "    df_cleaned.filter(F.col('speed')<=150)\n",
        "              .filter(F.col('coverage').between(0.85,1.05))\n",
        "              .filter(F.col('is_tunnel')==0)\n",
        "              #.filter(F.col('way_type')==6)\n",
        "              .select('length','eta','coverage','way_segments_count','way_type','latitude','longitude','timeOfDay','dayOfWeek','target','ata','isInTehran')\n",
        ")\n",
        "\n",
        "df_features.show(20,False)\n",
        "df_features.count()"
      ],
      "metadata": {
        "colab": {
          "base_uri": "https://localhost:8080/"
        },
        "id": "Q3QIu2yCo3ZM",
        "outputId": "09c8e92b-74b6-4984-a588-1b82046324a7"
      },
      "execution_count": 8,
      "outputs": [
        {
          "output_type": "stream",
          "name": "stdout",
          "text": [
            "+--------+------+------------------+------------------+--------+----------+----------+---------+---------+-------------------+------+----------+\n",
            "|length  |eta   |coverage          |way_segments_count|way_type|latitude  |longitude |timeOfDay|dayOfWeek|target             |ata   |isInTehran|\n",
            "+--------+------+------------------+------------------+--------+----------+----------+---------+---------+-------------------+------+----------+\n",
            "|68.373  |9.116 |0.9988050838781368|1                 |7       |35.8001555|51.4748499|5.6      |2        |0.9116911691169116 |9.999 |1         |\n",
            "|76.896  |6.291 |0.9697557740324592|3                 |7       |32.645556 |51.6593476|5.42     |2        |0.8982010279840092 |7.004 |0         |\n",
            "|76.896  |6.291 |0.8830849459009574|1                 |7       |32.645556 |51.6593476|12.08    |7        |0.967995076165564  |6.499 |0         |\n",
            "|869.709 |38.182|0.9694518511364142|2                 |9       |32.9273571|51.5172039|11.82    |4        |1.193784392196098  |31.984|0         |\n",
            "|609.71  |49.885|0.9911105771596332|1                 |6       |35.6646162|51.2939361|13.83    |2        |1.2313635466034754 |40.512|1         |\n",
            "|1295.522|67.592|0.978333829915663 |1                 |9       |32.8076558|51.6030575|3.33     |2        |1.024214322514168  |65.994|0         |\n",
            "|70.331  |10.549|0.9497490438071416|1                 |3       |32.8610878|51.5457812|18.13    |5        |1.5052796803652968 |7.008 |0         |\n",
            "|70.331  |8.167 |0.925996217884006 |2                 |3       |32.8610878|51.5457812|18.9     |5        |1.0211302825706425 |7.998 |0         |\n",
            "|146.301 |13.167|0.9065331064039194|1                 |7       |32.8969697|51.5341962|18.07    |1        |0.9407687910831666 |13.996|0         |\n",
            "|140.051 |10.289|0.9266431514234084|1                 |3       |32.6939679|51.7443231|16.67    |5        |1.0832806906717205 |9.498 |0         |\n",
            "|140.051 |10.289|0.957883199691542 |1                 |3       |32.6939679|51.7443231|19.13    |3        |1.4700671524503501 |6.999 |0         |\n",
            "|147.414 |6.803 |0.9463422741394992|2                 |9       |36.3450115|59.531468 |1.47     |3        |0.7561409358675114 |8.997 |0         |\n",
            "|161.402 |11.173|0.9655146776372   |1                 |3       |32.7891656|51.6993189|5.75     |4        |1.1161838161838162 |10.01 |0         |\n",
            "|161.402 |12.362|0.9516492980260478|4                 |3       |32.7891656|51.6993189|11.15    |6        |1.0296518407462936 |12.006|0         |\n",
            "|29.185  |17.775|0.9611101593283972|1                 |6       |35.7537115|51.2639214|12.18    |7        |2.737141977209732  |6.494 |1         |\n",
            "|66.882  |11.465|0.9866373613229256|1                 |7       |35.716939 |51.4072227|0.25     |3        |0.32300323989294266|35.495|1         |\n",
            "|73.012  |11.947|0.983417794335179 |3                 |6       |34.6099375|50.8509349|6.22     |1        |0.8241015382492929 |14.497|0         |\n",
            "|73.012  |13.833|0.8550923135922958|1                 |6       |34.6099375|50.8509349|15.33    |5        |1.2020333680917623 |11.508|0         |\n",
            "|44.59   |21.918|0.8628997533078998|2                 |7       |34.606844 |50.9066638|11.88    |7        |3.123111997720148  |7.018 |0         |\n",
            "|73.486  |5.398 |0.8871485725172046|2                 |3       |34.6213318|50.8486531|4.32     |2        |1.0785214785214785 |5.005 |0         |\n",
            "+--------+------+------------------+------------------+--------+----------+----------+---------+---------+-------------------+------+----------+\n",
            "only showing top 20 rows\n",
            "\n"
          ]
        },
        {
          "output_type": "execute_result",
          "data": {
            "text/plain": [
              "138358"
            ]
          },
          "metadata": {},
          "execution_count": 8
        }
      ]
    },
    {
      "cell_type": "code",
      "source": [
        "test_cleaned = (\n",
        "    df_test.withColumn('createdAt',F.from_unixtime(F.col('timestamp')/1000))\n",
        "            .withColumn('timeOfDay',F.hour('createdAt')+F.round(F.minute('createdAt')/60,2))\n",
        "            .withColumn('dayOfWeek',F.dayofweek('createdAt'))\n",
        "            .select('length','eta','latitude','longitude','timeOfDay','coverage','way_type','dayOfWeek')\n",
        ").persist()\n",
        "\n",
        "features_test = test_cleaned.toPandas()\n"
      ],
      "metadata": {
        "id": "xEcB2sKqtde2"
      },
      "execution_count": 11,
      "outputs": []
    },
    {
      "cell_type": "code",
      "source": [
        "# Data\n",
        "features_train = df_features.toPandas()\n",
        "features_test = test_cleaned.toPandas()\n",
        "\n",
        "#X = ['length','eta','coverage','way_segments_count','latitude','longitude','timeOfDay','dayOfWeek','way_type']\n",
        "\n",
        "Train_Fetures = features_train[['length','eta','latitude','longitude','timeOfDay','coverage','way_type','dayOfWeek']]\n",
        "Train_Target = features_train[['target','ata']]\n"
      ],
      "metadata": {
        "id": "8PURMO5LVfx5"
      },
      "execution_count": 12,
      "outputs": []
    },
    {
      "cell_type": "markdown",
      "source": [
        "# **ML Model**"
      ],
      "metadata": {
        "id": "swpbvwSt7YwD"
      }
    },
    {
      "cell_type": "markdown",
      "source": [
        "XGBosst [Source](https://xgboost.readthedocs.io/en/stable/parameter.html)\n",
        "\n",
        "[Package](https://xgboost.readthedocs.io/en/stable/python/python_api.html)"
      ],
      "metadata": {
        "id": "PkK1TsDYFLLr"
      }
    },
    {
      "cell_type": "code",
      "source": [
        "import xgboost as xgb\n",
        "from sklearn.model_selection import train_test_split\n",
        "\n",
        "# Data\n",
        "features_train = df_features.toPandas()\n",
        "features_test = test_cleaned.toPandas()\n",
        "\n",
        "#X = ['length','eta','coverage','way_segments_count','latitude','longitude','timeOfDay','dayOfWeek','way_type']\n",
        "\n",
        "Train_Fetures = features_train[['length','eta','latitude','longitude','timeOfDay','coverage','way_type','dayOfWeek']]\n",
        "Train_Target = features_train[['target','ata']]\n",
        "\n",
        "Test_Features = features_test\n",
        "\n",
        "# Fit\n",
        "train_X, test_X, train_y, test_y = train_test_split(Train_Fetures, Train_Target, test_size=0.1)\n",
        "\n",
        "model = xgb.XGBRegressor(learing_rate = 0.2,\n",
        "                         max_depth=10,\n",
        "                         n_estimators=200,\n",
        "                         min_child_weight=3,\n",
        "                         eval_metric='mae')\n",
        "\n",
        "eval_set = [(train_X, train_y['target']), (test_X, test_y['target'])]\n",
        "model.fit(train_X, (train_y['target']).values.ravel(), early_stopping_rounds=25, eval_metric=[\"mae\"], eval_set=eval_set, verbose=True)\n",
        "\n",
        "# Predcition\n",
        "y_predicted =  model.predict(test_X)\n",
        "prediction = test_X[['eta','coverage']]\n",
        "prediction['predicted ATA'] = (prediction['eta']) / y_predicted\n",
        "prediction['ata'] = test_y['ata']\n",
        "\n",
        "prediction['error'] = abs((prediction['predicted ATA']-prediction['ata'])/(prediction['ata']))* 100\n",
        "prediction['target error'] = prediction['predicted ATA']/prediction['ata']\n",
        "prediction['first error'] = prediction['eta']/prediction['ata']\n",
        "prediction['error'].describe()"
      ],
      "metadata": {
        "colab": {
          "base_uri": "https://localhost:8080/"
        },
        "id": "pdvXvgB65J8J",
        "outputId": "3b31f886-7a21-44bc-94b9-b51e7bf224e3"
      },
      "execution_count": null,
      "outputs": [
        {
          "output_type": "stream",
          "name": "stdout",
          "text": [
            "[11:24:49] WARNING: /workspace/src/objective/regression_obj.cu:152: reg:linear is now deprecated in favor of reg:squarederror.\n",
            "[0]\tvalidation_0-mae:0.594191\tvalidation_1-mae:0.595572\n",
            "Multiple eval metrics have been passed: 'validation_1-mae' will be used for early stopping.\n",
            "\n",
            "Will train until validation_1-mae hasn't improved in 25 rounds.\n",
            "[1]\tvalidation_0-mae:0.542994\tvalidation_1-mae:0.545161\n",
            "[2]\tvalidation_0-mae:0.498434\tvalidation_1-mae:0.501432\n",
            "[3]\tvalidation_0-mae:0.459777\tvalidation_1-mae:0.463599\n",
            "[4]\tvalidation_0-mae:0.426423\tvalidation_1-mae:0.430932\n",
            "[5]\tvalidation_0-mae:0.397747\tvalidation_1-mae:0.403246\n",
            "[6]\tvalidation_0-mae:0.373215\tvalidation_1-mae:0.379645\n",
            "[7]\tvalidation_0-mae:0.3524\tvalidation_1-mae:0.359729\n",
            "[8]\tvalidation_0-mae:0.334805\tvalidation_1-mae:0.343151\n",
            "[9]\tvalidation_0-mae:0.320023\tvalidation_1-mae:0.32942\n",
            "[10]\tvalidation_0-mae:0.30763\tvalidation_1-mae:0.317893\n",
            "[11]\tvalidation_0-mae:0.29722\tvalidation_1-mae:0.308466\n",
            "[12]\tvalidation_0-mae:0.288453\tvalidation_1-mae:0.300696\n",
            "[13]\tvalidation_0-mae:0.281099\tvalidation_1-mae:0.294374\n",
            "[14]\tvalidation_0-mae:0.274953\tvalidation_1-mae:0.288927\n",
            "[15]\tvalidation_0-mae:0.269816\tvalidation_1-mae:0.284589\n",
            "[16]\tvalidation_0-mae:0.265452\tvalidation_1-mae:0.280992\n",
            "[17]\tvalidation_0-mae:0.26168\tvalidation_1-mae:0.277943\n",
            "[18]\tvalidation_0-mae:0.258609\tvalidation_1-mae:0.275531\n",
            "[19]\tvalidation_0-mae:0.255873\tvalidation_1-mae:0.273538\n",
            "[20]\tvalidation_0-mae:0.253988\tvalidation_1-mae:0.271853\n",
            "[21]\tvalidation_0-mae:0.2524\tvalidation_1-mae:0.270517\n",
            "[22]\tvalidation_0-mae:0.250987\tvalidation_1-mae:0.269526\n",
            "[23]\tvalidation_0-mae:0.249687\tvalidation_1-mae:0.26857\n",
            "[24]\tvalidation_0-mae:0.248541\tvalidation_1-mae:0.267834\n",
            "[25]\tvalidation_0-mae:0.247682\tvalidation_1-mae:0.267252\n",
            "[26]\tvalidation_0-mae:0.246879\tvalidation_1-mae:0.266686\n",
            "[27]\tvalidation_0-mae:0.24604\tvalidation_1-mae:0.266269\n",
            "[28]\tvalidation_0-mae:0.245363\tvalidation_1-mae:0.265929\n",
            "[29]\tvalidation_0-mae:0.244777\tvalidation_1-mae:0.265619\n",
            "[30]\tvalidation_0-mae:0.244148\tvalidation_1-mae:0.265348\n",
            "[31]\tvalidation_0-mae:0.243734\tvalidation_1-mae:0.265192\n",
            "[32]\tvalidation_0-mae:0.243399\tvalidation_1-mae:0.264989\n",
            "[33]\tvalidation_0-mae:0.242978\tvalidation_1-mae:0.264824\n",
            "[34]\tvalidation_0-mae:0.242532\tvalidation_1-mae:0.264647\n",
            "[35]\tvalidation_0-mae:0.242188\tvalidation_1-mae:0.264525\n",
            "[36]\tvalidation_0-mae:0.241902\tvalidation_1-mae:0.26438\n",
            "[37]\tvalidation_0-mae:0.241537\tvalidation_1-mae:0.264337\n",
            "[38]\tvalidation_0-mae:0.241173\tvalidation_1-mae:0.264223\n",
            "[39]\tvalidation_0-mae:0.240986\tvalidation_1-mae:0.264161\n",
            "[40]\tvalidation_0-mae:0.24055\tvalidation_1-mae:0.264017\n",
            "[41]\tvalidation_0-mae:0.240225\tvalidation_1-mae:0.26395\n",
            "[42]\tvalidation_0-mae:0.240009\tvalidation_1-mae:0.263926\n",
            "[43]\tvalidation_0-mae:0.239724\tvalidation_1-mae:0.263898\n",
            "[44]\tvalidation_0-mae:0.239582\tvalidation_1-mae:0.263881\n",
            "[45]\tvalidation_0-mae:0.23937\tvalidation_1-mae:0.263827\n",
            "[46]\tvalidation_0-mae:0.239229\tvalidation_1-mae:0.263811\n",
            "[47]\tvalidation_0-mae:0.239099\tvalidation_1-mae:0.263757\n",
            "[48]\tvalidation_0-mae:0.238844\tvalidation_1-mae:0.26366\n",
            "[49]\tvalidation_0-mae:0.238744\tvalidation_1-mae:0.26362\n",
            "[50]\tvalidation_0-mae:0.238628\tvalidation_1-mae:0.263613\n",
            "[51]\tvalidation_0-mae:0.238483\tvalidation_1-mae:0.263616\n",
            "[52]\tvalidation_0-mae:0.238361\tvalidation_1-mae:0.26358\n",
            "[53]\tvalidation_0-mae:0.238004\tvalidation_1-mae:0.263556\n",
            "[54]\tvalidation_0-mae:0.237702\tvalidation_1-mae:0.263527\n",
            "[55]\tvalidation_0-mae:0.237516\tvalidation_1-mae:0.263525\n",
            "[56]\tvalidation_0-mae:0.237204\tvalidation_1-mae:0.263437\n",
            "[57]\tvalidation_0-mae:0.23696\tvalidation_1-mae:0.263429\n",
            "[58]\tvalidation_0-mae:0.236914\tvalidation_1-mae:0.263405\n",
            "[59]\tvalidation_0-mae:0.236788\tvalidation_1-mae:0.263377\n",
            "[60]\tvalidation_0-mae:0.236607\tvalidation_1-mae:0.263314\n",
            "[61]\tvalidation_0-mae:0.236475\tvalidation_1-mae:0.263294\n",
            "[62]\tvalidation_0-mae:0.236229\tvalidation_1-mae:0.263331\n",
            "[63]\tvalidation_0-mae:0.236182\tvalidation_1-mae:0.263341\n",
            "[64]\tvalidation_0-mae:0.2361\tvalidation_1-mae:0.263337\n",
            "[65]\tvalidation_0-mae:0.236004\tvalidation_1-mae:0.263326\n",
            "[66]\tvalidation_0-mae:0.235942\tvalidation_1-mae:0.263308\n",
            "[67]\tvalidation_0-mae:0.235794\tvalidation_1-mae:0.26334\n",
            "[68]\tvalidation_0-mae:0.235646\tvalidation_1-mae:0.263339\n",
            "[69]\tvalidation_0-mae:0.235553\tvalidation_1-mae:0.26336\n",
            "[70]\tvalidation_0-mae:0.23535\tvalidation_1-mae:0.263368\n",
            "[71]\tvalidation_0-mae:0.235221\tvalidation_1-mae:0.263322\n",
            "[72]\tvalidation_0-mae:0.235093\tvalidation_1-mae:0.263304\n",
            "[73]\tvalidation_0-mae:0.235055\tvalidation_1-mae:0.263311\n",
            "[74]\tvalidation_0-mae:0.234975\tvalidation_1-mae:0.263344\n",
            "[75]\tvalidation_0-mae:0.234944\tvalidation_1-mae:0.263361\n",
            "[76]\tvalidation_0-mae:0.234902\tvalidation_1-mae:0.263374\n",
            "[77]\tvalidation_0-mae:0.234801\tvalidation_1-mae:0.263369\n",
            "[78]\tvalidation_0-mae:0.234669\tvalidation_1-mae:0.263314\n",
            "[79]\tvalidation_0-mae:0.2345\tvalidation_1-mae:0.263321\n",
            "[80]\tvalidation_0-mae:0.234402\tvalidation_1-mae:0.263318\n",
            "[81]\tvalidation_0-mae:0.234289\tvalidation_1-mae:0.263313\n",
            "[82]\tvalidation_0-mae:0.23423\tvalidation_1-mae:0.263305\n",
            "[83]\tvalidation_0-mae:0.234204\tvalidation_1-mae:0.263298\n",
            "[84]\tvalidation_0-mae:0.234141\tvalidation_1-mae:0.263311\n",
            "[85]\tvalidation_0-mae:0.23392\tvalidation_1-mae:0.263293\n",
            "[86]\tvalidation_0-mae:0.233779\tvalidation_1-mae:0.263269\n",
            "[87]\tvalidation_0-mae:0.233749\tvalidation_1-mae:0.263256\n",
            "[88]\tvalidation_0-mae:0.233683\tvalidation_1-mae:0.263251\n",
            "[89]\tvalidation_0-mae:0.233557\tvalidation_1-mae:0.263286\n",
            "[90]\tvalidation_0-mae:0.233484\tvalidation_1-mae:0.263289\n",
            "[91]\tvalidation_0-mae:0.233406\tvalidation_1-mae:0.263269\n",
            "[92]\tvalidation_0-mae:0.233369\tvalidation_1-mae:0.263267\n",
            "[93]\tvalidation_0-mae:0.233354\tvalidation_1-mae:0.263245\n",
            "[94]\tvalidation_0-mae:0.233228\tvalidation_1-mae:0.263265\n",
            "[95]\tvalidation_0-mae:0.23319\tvalidation_1-mae:0.263283\n",
            "[96]\tvalidation_0-mae:0.233092\tvalidation_1-mae:0.263306\n",
            "[97]\tvalidation_0-mae:0.232922\tvalidation_1-mae:0.263282\n",
            "[98]\tvalidation_0-mae:0.232805\tvalidation_1-mae:0.263266\n",
            "[99]\tvalidation_0-mae:0.232776\tvalidation_1-mae:0.263266\n",
            "[100]\tvalidation_0-mae:0.2326\tvalidation_1-mae:0.263255\n",
            "[101]\tvalidation_0-mae:0.232562\tvalidation_1-mae:0.263233\n",
            "[102]\tvalidation_0-mae:0.232412\tvalidation_1-mae:0.263211\n",
            "[103]\tvalidation_0-mae:0.232344\tvalidation_1-mae:0.263215\n",
            "[104]\tvalidation_0-mae:0.232288\tvalidation_1-mae:0.263242\n",
            "[105]\tvalidation_0-mae:0.232206\tvalidation_1-mae:0.26323\n",
            "[106]\tvalidation_0-mae:0.231984\tvalidation_1-mae:0.263204\n",
            "[107]\tvalidation_0-mae:0.231812\tvalidation_1-mae:0.26319\n",
            "[108]\tvalidation_0-mae:0.231662\tvalidation_1-mae:0.263202\n",
            "[109]\tvalidation_0-mae:0.231614\tvalidation_1-mae:0.263218\n",
            "[110]\tvalidation_0-mae:0.23151\tvalidation_1-mae:0.263241\n",
            "[111]\tvalidation_0-mae:0.231456\tvalidation_1-mae:0.263261\n",
            "[112]\tvalidation_0-mae:0.231441\tvalidation_1-mae:0.263259\n",
            "[113]\tvalidation_0-mae:0.231338\tvalidation_1-mae:0.263268\n",
            "[114]\tvalidation_0-mae:0.231238\tvalidation_1-mae:0.26327\n",
            "[115]\tvalidation_0-mae:0.231178\tvalidation_1-mae:0.263276\n",
            "[116]\tvalidation_0-mae:0.230989\tvalidation_1-mae:0.263283\n",
            "[117]\tvalidation_0-mae:0.230941\tvalidation_1-mae:0.263258\n",
            "[118]\tvalidation_0-mae:0.230893\tvalidation_1-mae:0.263266\n",
            "[119]\tvalidation_0-mae:0.230817\tvalidation_1-mae:0.263235\n",
            "[120]\tvalidation_0-mae:0.230648\tvalidation_1-mae:0.263234\n",
            "[121]\tvalidation_0-mae:0.230539\tvalidation_1-mae:0.263263\n",
            "[122]\tvalidation_0-mae:0.23038\tvalidation_1-mae:0.26322\n",
            "[123]\tvalidation_0-mae:0.230368\tvalidation_1-mae:0.26322\n",
            "[124]\tvalidation_0-mae:0.230337\tvalidation_1-mae:0.263226\n",
            "[125]\tvalidation_0-mae:0.230211\tvalidation_1-mae:0.263225\n",
            "[126]\tvalidation_0-mae:0.230133\tvalidation_1-mae:0.263215\n",
            "[127]\tvalidation_0-mae:0.230044\tvalidation_1-mae:0.263225\n",
            "[128]\tvalidation_0-mae:0.229949\tvalidation_1-mae:0.26322\n",
            "[129]\tvalidation_0-mae:0.229863\tvalidation_1-mae:0.263241\n",
            "[130]\tvalidation_0-mae:0.229799\tvalidation_1-mae:0.263247\n",
            "[131]\tvalidation_0-mae:0.229699\tvalidation_1-mae:0.263275\n",
            "[132]\tvalidation_0-mae:0.229628\tvalidation_1-mae:0.263293\n",
            "Stopping. Best iteration:\n",
            "[107]\tvalidation_0-mae:0.231812\tvalidation_1-mae:0.26319\n",
            "\n"
          ]
        },
        {
          "output_type": "execute_result",
          "data": {
            "text/plain": [
              "count    13836.000000\n",
              "mean        22.339463\n",
              "std         20.598296\n",
              "min          0.002031\n",
              "25%          7.749994\n",
              "50%         16.804079\n",
              "75%         30.777931\n",
              "max        404.329001\n",
              "Name: error, dtype: float64"
            ]
          },
          "metadata": {},
          "execution_count": 48
        }
      ]
    },
    {
      "cell_type": "code",
      "source": [
        "sns.set_theme(style=\"darkgrid\")\n",
        "sns.set(rc = {'figure.figsize':(13,8)})\n",
        "sns.histplot(data = prediction[prediction['target error']<2], x= 'target error',stat='probability',alpha=0.8,color='r',kde=True,label='Second Model')\n",
        "sns.histplot(data = prediction[prediction['first error']<2], x= 'first error',stat='probability',alpha=0.8,color='g',kde=True,label='First Model')\n",
        "plt.legend()\n",
        "plt.xlabel('target: ETA/ATA')"
      ],
      "metadata": {
        "colab": {
          "base_uri": "https://localhost:8080/",
          "height": 520
        },
        "id": "5X8PheQ95Nv0",
        "outputId": "9d5ff862-b169-4045-d596-074e6025f9a2"
      },
      "execution_count": null,
      "outputs": [
        {
          "output_type": "execute_result",
          "data": {
            "text/plain": [
              "Text(0.5, 0, 'target: ETA/ATA')"
            ]
          },
          "metadata": {},
          "execution_count": 39
        },
        {
          "output_type": "display_data",
          "data": {
            "text/plain": [
              "<Figure size 936x576 with 1 Axes>"
            ],
            "image/png": "[encoded data removed]"
          },
          "metadata": {}
        }
      ]
    },
    {
      "cell_type": "markdown",
      "source": [
        "# **Hyperparametring** [Source](https://www.kaggle.com/code/prashant111/a-guide-on-xgboost-hyperparameters-tuning/notebook)"
      ],
      "metadata": {
        "id": "LVjgf_bHN6Bs"
      }
    },
    {
      "cell_type": "code",
      "source": [
        "from hyperopt import STATUS_OK, Trials, fmin, hp, tpe\n",
        "from sklearn.metrics import mean_absolute_error\n",
        "\n",
        "\n",
        "space={'max_depth': hp.quniform(\"max_depth\", 3, 14, 1),\n",
        "        'min_child_weight' : hp.quniform('min_child_weight', 0, 10, 1),\n",
        "        'n_estimators': hp.quniform(\"n_estimators\", 200, 350, 30)\n",
        "    }\n",
        "\n",
        "Train_Fetures = features_train[['length','eta','latitude','longitude','timeOfDay','coverage','way_type','dayOfWeek']]\n",
        "Train_Target = features_train[['target','ata']]\n",
        "train_X, test_X, train_y, test_y = train_test_split(Train_Fetures, Train_Target, test_size=0.1)\n",
        "\n",
        "def objective(space):\n",
        "    clf=xgb.XGBRegressor(\n",
        "                    n_estimators =int(space['n_estimators']), max_depth = int(space['max_depth']),min_child_weight=int(space['min_child_weight'])\n",
        "                    ,eval_metric='mae',eta=0.2)\n",
        "    \n",
        "    eval_set = [(train_X, train_y['target']), (test_X, test_y['target'])]\n",
        "    clf.fit(train_X, (train_y['target']).values.ravel(), early_stopping_rounds=15, eval_metric=[\"mae\"], eval_set=eval_set,verbose=False)\n",
        "  \n",
        "    pred = clf.predict(test_X)\n",
        "    mea = mean_absolute_error(pred, test_y['target'])\n",
        "    print (\"MAE:\", mea)\n",
        "    return {'loss': mea, 'status': STATUS_OK }\n",
        "\n",
        "trials = Trials()\n",
        "\n",
        "best_hyperparams = fmin(fn = objective,\n",
        "                        space = space,\n",
        "                        algo = tpe.suggest,\n",
        "                        max_evals = 40,\n",
        "                        trials = trials)\n",
        "\n"
      ],
      "metadata": {
        "colab": {
          "base_uri": "https://localhost:8080/"
        },
        "id": "dHr0puAbLk9U",
        "outputId": "b0dafbb9-a41e-485d-8333-4953e7cac86d"
      },
      "execution_count": null,
      "outputs": [
        {
          "output_type": "stream",
          "name": "stdout",
          "text": [
            "[11:29:42] WARNING: /workspace/src/objective/regression_obj.cu:152: reg:linear is now deprecated in favor of reg:squarederror.\n",
            "MAE:\n",
            "0.26449928737635353\n",
            "[11:30:21] WARNING: /workspace/src/objective/regression_obj.cu:152: reg:linear is now deprecated in favor of reg:squarederror.\n",
            "MAE:\n",
            "0.2663215546124728\n",
            "[11:31:04] WARNING: /workspace/src/objective/regression_obj.cu:152: reg:linear is now deprecated in favor of reg:squarederror.\n",
            "MAE:\n",
            "0.27014631040890164\n",
            "[11:31:32] WARNING: /workspace/src/objective/regression_obj.cu:152: reg:linear is now deprecated in favor of reg:squarederror.\n",
            "MAE:\n",
            "0.2637660832650818\n",
            "[11:32:10] WARNING: /workspace/src/objective/regression_obj.cu:152: reg:linear is now deprecated in favor of reg:squarederror.\n",
            "MAE:\n",
            "0.2666492150362328\n",
            "[11:32:47] WARNING: /workspace/src/objective/regression_obj.cu:152: reg:linear is now deprecated in favor of reg:squarederror.\n",
            "MAE:\n",
            "0.2660448458139034\n",
            "[11:33:26] WARNING: /workspace/src/objective/regression_obj.cu:152: reg:linear is now deprecated in favor of reg:squarederror.\n",
            "MAE:\n",
            "0.27106902570619057\n",
            "[11:33:47] WARNING: /workspace/src/objective/regression_obj.cu:152: reg:linear is now deprecated in favor of reg:squarederror.\n",
            "MAE:\n",
            "0.26514756288280167\n",
            "[11:34:31] WARNING: /workspace/src/objective/regression_obj.cu:152: reg:linear is now deprecated in favor of reg:squarederror.\n",
            "MAE:\n",
            "0.26505577303464584\n",
            "[11:35:09] WARNING: /workspace/src/objective/regression_obj.cu:152: reg:linear is now deprecated in favor of reg:squarederror.\n",
            "MAE:\n",
            "0.2642452739388633\n",
            "[11:35:58] WARNING: /workspace/src/objective/regression_obj.cu:152: reg:linear is now deprecated in favor of reg:squarederror.\n",
            "MAE:\n",
            "0.2665770244933697\n",
            "[11:36:36] WARNING: /workspace/src/objective/regression_obj.cu:152: reg:linear is now deprecated in favor of reg:squarederror.\n",
            "MAE:\n",
            "0.26554138166558755\n",
            "[11:37:16] WARNING: /workspace/src/objective/regression_obj.cu:152: reg:linear is now deprecated in favor of reg:squarederror.\n",
            "MAE:\n",
            "0.26524465914414447\n",
            "[11:37:41] WARNING: /workspace/src/objective/regression_obj.cu:152: reg:linear is now deprecated in favor of reg:squarederror.\n",
            "MAE:\n",
            "0.2685659448686357\n",
            "[11:38:13] WARNING: /workspace/src/objective/regression_obj.cu:152: reg:linear is now deprecated in favor of reg:squarederror.\n",
            "MAE:\n",
            "0.2648743981118948\n",
            "[11:38:36] WARNING: /workspace/src/objective/regression_obj.cu:152: reg:linear is now deprecated in favor of reg:squarederror.\n",
            "MAE:\n",
            "0.2675765170391462\n",
            "[11:39:17] WARNING: /workspace/src/objective/regression_obj.cu:152: reg:linear is now deprecated in favor of reg:squarederror.\n",
            "MAE:\n",
            "0.26681118996588526\n",
            "[11:39:45] WARNING: /workspace/src/objective/regression_obj.cu:152: reg:linear is now deprecated in favor of reg:squarederror.\n",
            "MAE:\n",
            "0.26642109649508683\n",
            "[11:40:20] WARNING: /workspace/src/objective/regression_obj.cu:152: reg:linear is now deprecated in favor of reg:squarederror.\n",
            "MAE:\n",
            "0.2642716956103798\n",
            "[11:41:03] WARNING: /workspace/src/objective/regression_obj.cu:152: reg:linear is now deprecated in favor of reg:squarederror.\n",
            "MAE:\n",
            "0.2696822419707302\n",
            "[11:41:31] WARNING: /workspace/src/objective/regression_obj.cu:152: reg:linear is now deprecated in favor of reg:squarederror.\n",
            "MAE:\n",
            "0.26440010902259675\n",
            "[11:42:04] WARNING: /workspace/src/objective/regression_obj.cu:152: reg:linear is now deprecated in favor of reg:squarederror.\n",
            "MAE:\n",
            "0.264512128052718\n",
            "[11:42:35] WARNING: /workspace/src/objective/regression_obj.cu:152: reg:linear is now deprecated in favor of reg:squarederror.\n",
            "MAE:\n",
            "0.2642452739388633\n",
            "[11:43:24] WARNING: /workspace/src/objective/regression_obj.cu:152: reg:linear is now deprecated in favor of reg:squarederror.\n",
            "MAE:\n",
            "0.26440010902259675\n",
            "[11:43:57] WARNING: /workspace/src/objective/regression_obj.cu:152: reg:linear is now deprecated in favor of reg:squarederror.\n",
            "MAE:\n",
            "0.26445441592460545\n",
            "[11:44:37] WARNING: /workspace/src/objective/regression_obj.cu:152: reg:linear is now deprecated in favor of reg:squarederror.\n",
            "MAE:\n",
            "0.26545640886776684\n",
            "[11:45:05] WARNING: /workspace/src/objective/regression_obj.cu:152: reg:linear is now deprecated in favor of reg:squarederror.\n",
            "MAE:\n",
            "0.2647865776766259\n",
            "[11:45:42] WARNING: /workspace/src/objective/regression_obj.cu:152: reg:linear is now deprecated in favor of reg:squarederror.\n",
            "MAE:\n",
            "0.26452622000018944\n",
            "[11:46:20] WARNING: /workspace/src/objective/regression_obj.cu:152: reg:linear is now deprecated in favor of reg:squarederror.\n",
            "MAE:\n",
            "0.26440010902259675\n",
            "[11:46:54] WARNING: /workspace/src/objective/regression_obj.cu:152: reg:linear is now deprecated in favor of reg:squarederror.\n",
            "MAE:\n",
            "0.26594462832315263\n",
            "[11:47:22] WARNING: /workspace/src/objective/regression_obj.cu:152: reg:linear is now deprecated in favor of reg:squarederror.\n",
            "MAE:\n",
            "0.2650957743218402\n",
            "[11:48:04] WARNING: /workspace/src/objective/regression_obj.cu:152: reg:linear is now deprecated in favor of reg:squarederror.\n",
            "MAE:\n",
            "0.26490734291862134\n",
            "[11:48:33] WARNING: /workspace/src/objective/regression_obj.cu:152: reg:linear is now deprecated in favor of reg:squarederror.\n",
            "MAE:\n",
            "0.2642424505784842\n",
            "[11:49:04] WARNING: /workspace/src/objective/regression_obj.cu:152: reg:linear is now deprecated in favor of reg:squarederror.\n",
            "MAE:\n",
            "0.2643646309676969\n",
            "[11:49:41] WARNING: /workspace/src/objective/regression_obj.cu:152: reg:linear is now deprecated in favor of reg:squarederror.\n",
            "MAE:\n",
            "0.26567980825985893\n",
            "[11:50:19] WARNING: /workspace/src/objective/regression_obj.cu:152: reg:linear is now deprecated in favor of reg:squarederror.\n",
            "MAE:\n",
            "0.26540959058301794\n",
            "[11:50:44] WARNING: /workspace/src/objective/regression_obj.cu:152: reg:linear is now deprecated in favor of reg:squarederror.\n",
            "MAE:\n",
            "0.264512128052718\n",
            "[11:51:15] WARNING: /workspace/src/objective/regression_obj.cu:152: reg:linear is now deprecated in favor of reg:squarederror.\n",
            "MAE:\n",
            "0.26551137204228936\n",
            "[11:51:42] WARNING: /workspace/src/objective/regression_obj.cu:152: reg:linear is now deprecated in favor of reg:squarederror.\n",
            "MAE:\n",
            "0.264693542800849\n",
            "[11:52:20] WARNING: /workspace/src/objective/regression_obj.cu:152: reg:linear is now deprecated in favor of reg:squarederror.\n",
            "MAE:\n",
            "0.26440010902259675\n",
            "100%|██████████| 40/40 [23:12<00:00, 34.80s/it, best loss: 0.2637660832650818]\n"
          ]
        }
      ]
    },
    {
      "cell_type": "code",
      "source": [
        "print(\"The best hyperparameters are : \",\"\\n\")\n",
        "print(best_hyperparams)"
      ],
      "metadata": {
        "colab": {
          "base_uri": "https://localhost:8080/"
        },
        "id": "jQrMfEBeVPxr",
        "outputId": "362bd191-90ab-4c8f-bb53-16db36b4e97b"
      },
      "execution_count": null,
      "outputs": [
        {
          "output_type": "stream",
          "name": "stdout",
          "text": [
            "The best hyperparameters are :  \n",
            "\n",
            "{'max_depth': 8.0, 'min_child_weight': 0.0, 'n_estimators': 270.0}\n"
          ]
        }
      ]
    },
    {
      "cell_type": "markdown",
      "source": [
        "**Choosing Model**"
      ],
      "metadata": {
        "id": "BF-bz8cLTMLc"
      }
    },
    {
      "cell_type": "code",
      "source": [
        "import xgboost as xgb\n",
        "from sklearn.model_selection import train_test_split\n",
        "# Fit\n",
        "train_X, test_X, train_y, test_y = train_test_split(Train_Fetures, Train_Target, test_size=0.1)\n",
        "\n",
        "# Parameters\n",
        "bestModel = xgb.XGBRegressor(eta = 0.2,\n",
        "                         max_depth=8,\n",
        "                         n_estimators=270,\n",
        "                         min_child_weight=0,\n",
        "                         eval_metric='mae')\n",
        "\n",
        "eval_set = [(train_X, train_y['target']), (test_X, test_y['target'])]\n",
        "bestModel.fit(train_X, (train_y['target']).values.ravel(), early_stopping_rounds=25, eval_metric=[\"mae\"], eval_set=eval_set, verbose=True)"
      ],
      "metadata": {
        "colab": {
          "base_uri": "https://localhost:8080/"
        },
        "id": "lMNkfyPYTF9E",
        "outputId": "422c8610-6b4d-435c-9a8c-6b62b7b103e1"
      },
      "execution_count": 14,
      "outputs": [
        {
          "output_type": "stream",
          "name": "stdout",
          "text": [
            "[10:30:18] WARNING: /workspace/src/objective/regression_obj.cu:152: reg:linear is now deprecated in favor of reg:squarederror.\n",
            "[0]\tvalidation_0-mae:0.594063\tvalidation_1-mae:0.597793\n",
            "Multiple eval metrics have been passed: 'validation_1-mae' will be used for early stopping.\n",
            "\n",
            "Will train until validation_1-mae hasn't improved in 25 rounds.\n",
            "[1]\tvalidation_0-mae:0.543158\tvalidation_1-mae:0.547094\n",
            "[2]\tvalidation_0-mae:0.498993\tvalidation_1-mae:0.503138\n",
            "[3]\tvalidation_0-mae:0.460842\tvalidation_1-mae:0.465096\n",
            "[4]\tvalidation_0-mae:0.428067\tvalidation_1-mae:0.432408\n",
            "[5]\tvalidation_0-mae:0.400027\tvalidation_1-mae:0.404619\n",
            "[6]\tvalidation_0-mae:0.376302\tvalidation_1-mae:0.381138\n",
            "[7]\tvalidation_0-mae:0.356345\tvalidation_1-mae:0.361214\n",
            "[8]\tvalidation_0-mae:0.339582\tvalidation_1-mae:0.344519\n",
            "[9]\tvalidation_0-mae:0.325644\tvalidation_1-mae:0.33093\n",
            "[10]\tvalidation_0-mae:0.314005\tvalidation_1-mae:0.319444\n",
            "[11]\tvalidation_0-mae:0.304302\tvalidation_1-mae:0.309955\n",
            "[12]\tvalidation_0-mae:0.296329\tvalidation_1-mae:0.302303\n",
            "[13]\tvalidation_0-mae:0.289827\tvalidation_1-mae:0.295997\n",
            "[14]\tvalidation_0-mae:0.284481\tvalidation_1-mae:0.290805\n",
            "[15]\tvalidation_0-mae:0.280053\tvalidation_1-mae:0.286502\n",
            "[16]\tvalidation_0-mae:0.276375\tvalidation_1-mae:0.283088\n",
            "[17]\tvalidation_0-mae:0.273278\tvalidation_1-mae:0.280249\n",
            "[18]\tvalidation_0-mae:0.270742\tvalidation_1-mae:0.277887\n",
            "[19]\tvalidation_0-mae:0.268575\tvalidation_1-mae:0.275975\n",
            "[20]\tvalidation_0-mae:0.266807\tvalidation_1-mae:0.274413\n",
            "[21]\tvalidation_0-mae:0.265331\tvalidation_1-mae:0.273174\n",
            "[22]\tvalidation_0-mae:0.264047\tvalidation_1-mae:0.272029\n",
            "[23]\tvalidation_0-mae:0.262979\tvalidation_1-mae:0.271142\n",
            "[24]\tvalidation_0-mae:0.26202\tvalidation_1-mae:0.270264\n",
            "[25]\tvalidation_0-mae:0.261205\tvalidation_1-mae:0.26969\n",
            "[26]\tvalidation_0-mae:0.260588\tvalidation_1-mae:0.26917\n",
            "[27]\tvalidation_0-mae:0.260004\tvalidation_1-mae:0.268736\n",
            "[28]\tvalidation_0-mae:0.259395\tvalidation_1-mae:0.268334\n",
            "[29]\tvalidation_0-mae:0.258967\tvalidation_1-mae:0.26809\n",
            "[30]\tvalidation_0-mae:0.258544\tvalidation_1-mae:0.267883\n",
            "[31]\tvalidation_0-mae:0.258111\tvalidation_1-mae:0.267606\n",
            "[32]\tvalidation_0-mae:0.257766\tvalidation_1-mae:0.267481\n",
            "[33]\tvalidation_0-mae:0.257361\tvalidation_1-mae:0.267291\n",
            "[34]\tvalidation_0-mae:0.25705\tvalidation_1-mae:0.267123\n",
            "[35]\tvalidation_0-mae:0.256723\tvalidation_1-mae:0.267035\n",
            "[36]\tvalidation_0-mae:0.256468\tvalidation_1-mae:0.266978\n",
            "[37]\tvalidation_0-mae:0.256235\tvalidation_1-mae:0.266881\n",
            "[38]\tvalidation_0-mae:0.255983\tvalidation_1-mae:0.266834\n",
            "[39]\tvalidation_0-mae:0.255819\tvalidation_1-mae:0.266773\n",
            "[40]\tvalidation_0-mae:0.255612\tvalidation_1-mae:0.266777\n",
            "[41]\tvalidation_0-mae:0.255355\tvalidation_1-mae:0.266704\n",
            "[42]\tvalidation_0-mae:0.255126\tvalidation_1-mae:0.266607\n",
            "[43]\tvalidation_0-mae:0.254869\tvalidation_1-mae:0.266527\n",
            "[44]\tvalidation_0-mae:0.254647\tvalidation_1-mae:0.266452\n",
            "[45]\tvalidation_0-mae:0.254458\tvalidation_1-mae:0.266444\n",
            "[46]\tvalidation_0-mae:0.254256\tvalidation_1-mae:0.266339\n",
            "[47]\tvalidation_0-mae:0.254007\tvalidation_1-mae:0.26618\n",
            "[48]\tvalidation_0-mae:0.253891\tvalidation_1-mae:0.266195\n",
            "[49]\tvalidation_0-mae:0.25381\tvalidation_1-mae:0.266167\n",
            "[50]\tvalidation_0-mae:0.253675\tvalidation_1-mae:0.26614\n",
            "[51]\tvalidation_0-mae:0.253531\tvalidation_1-mae:0.266093\n",
            "[52]\tvalidation_0-mae:0.253381\tvalidation_1-mae:0.265994\n",
            "[53]\tvalidation_0-mae:0.253221\tvalidation_1-mae:0.265992\n",
            "[54]\tvalidation_0-mae:0.252985\tvalidation_1-mae:0.265918\n",
            "[55]\tvalidation_0-mae:0.252807\tvalidation_1-mae:0.265917\n",
            "[56]\tvalidation_0-mae:0.252718\tvalidation_1-mae:0.265909\n",
            "[57]\tvalidation_0-mae:0.252526\tvalidation_1-mae:0.265862\n",
            "[58]\tvalidation_0-mae:0.252397\tvalidation_1-mae:0.265833\n",
            "[59]\tvalidation_0-mae:0.252237\tvalidation_1-mae:0.265821\n",
            "[60]\tvalidation_0-mae:0.252153\tvalidation_1-mae:0.265843\n",
            "[61]\tvalidation_0-mae:0.252035\tvalidation_1-mae:0.265798\n",
            "[62]\tvalidation_0-mae:0.251968\tvalidation_1-mae:0.265799\n",
            "[63]\tvalidation_0-mae:0.2519\tvalidation_1-mae:0.265802\n",
            "[64]\tvalidation_0-mae:0.251766\tvalidation_1-mae:0.265799\n",
            "[65]\tvalidation_0-mae:0.251592\tvalidation_1-mae:0.265786\n",
            "[66]\tvalidation_0-mae:0.251551\tvalidation_1-mae:0.265771\n",
            "[67]\tvalidation_0-mae:0.251277\tvalidation_1-mae:0.26573\n",
            "[68]\tvalidation_0-mae:0.251121\tvalidation_1-mae:0.265752\n",
            "[69]\tvalidation_0-mae:0.250972\tvalidation_1-mae:0.265758\n",
            "[70]\tvalidation_0-mae:0.250736\tvalidation_1-mae:0.265736\n",
            "[71]\tvalidation_0-mae:0.250641\tvalidation_1-mae:0.265736\n",
            "[72]\tvalidation_0-mae:0.250495\tvalidation_1-mae:0.265765\n",
            "[73]\tvalidation_0-mae:0.250444\tvalidation_1-mae:0.265772\n",
            "[74]\tvalidation_0-mae:0.250221\tvalidation_1-mae:0.265741\n",
            "[75]\tvalidation_0-mae:0.249912\tvalidation_1-mae:0.265716\n",
            "[76]\tvalidation_0-mae:0.249789\tvalidation_1-mae:0.265733\n",
            "[77]\tvalidation_0-mae:0.249712\tvalidation_1-mae:0.265706\n",
            "[78]\tvalidation_0-mae:0.249436\tvalidation_1-mae:0.265651\n",
            "[79]\tvalidation_0-mae:0.249264\tvalidation_1-mae:0.265674\n",
            "[80]\tvalidation_0-mae:0.249049\tvalidation_1-mae:0.265649\n",
            "[81]\tvalidation_0-mae:0.248826\tvalidation_1-mae:0.265605\n",
            "[82]\tvalidation_0-mae:0.248743\tvalidation_1-mae:0.2656\n",
            "[83]\tvalidation_0-mae:0.248717\tvalidation_1-mae:0.265607\n",
            "[84]\tvalidation_0-mae:0.248472\tvalidation_1-mae:0.265535\n",
            "[85]\tvalidation_0-mae:0.248204\tvalidation_1-mae:0.265439\n",
            "[86]\tvalidation_0-mae:0.248059\tvalidation_1-mae:0.26543\n",
            "[87]\tvalidation_0-mae:0.247901\tvalidation_1-mae:0.265457\n",
            "[88]\tvalidation_0-mae:0.247817\tvalidation_1-mae:0.265464\n",
            "[89]\tvalidation_0-mae:0.247712\tvalidation_1-mae:0.265433\n",
            "[90]\tvalidation_0-mae:0.247527\tvalidation_1-mae:0.265401\n",
            "[91]\tvalidation_0-mae:0.247423\tvalidation_1-mae:0.265412\n",
            "[92]\tvalidation_0-mae:0.24723\tvalidation_1-mae:0.265419\n",
            "[93]\tvalidation_0-mae:0.247097\tvalidation_1-mae:0.265365\n",
            "[94]\tvalidation_0-mae:0.247059\tvalidation_1-mae:0.265403\n",
            "[95]\tvalidation_0-mae:0.246902\tvalidation_1-mae:0.265422\n",
            "[96]\tvalidation_0-mae:0.246733\tvalidation_1-mae:0.265403\n",
            "[97]\tvalidation_0-mae:0.246568\tvalidation_1-mae:0.265375\n",
            "[98]\tvalidation_0-mae:0.246534\tvalidation_1-mae:0.265369\n",
            "[99]\tvalidation_0-mae:0.246422\tvalidation_1-mae:0.265341\n",
            "[100]\tvalidation_0-mae:0.246224\tvalidation_1-mae:0.265347\n",
            "[101]\tvalidation_0-mae:0.246187\tvalidation_1-mae:0.265339\n",
            "[102]\tvalidation_0-mae:0.246052\tvalidation_1-mae:0.265401\n",
            "[103]\tvalidation_0-mae:0.245968\tvalidation_1-mae:0.265433\n",
            "[104]\tvalidation_0-mae:0.245825\tvalidation_1-mae:0.265421\n",
            "[105]\tvalidation_0-mae:0.245754\tvalidation_1-mae:0.265426\n",
            "[106]\tvalidation_0-mae:0.245688\tvalidation_1-mae:0.265441\n",
            "[107]\tvalidation_0-mae:0.245678\tvalidation_1-mae:0.265441\n",
            "[108]\tvalidation_0-mae:0.245482\tvalidation_1-mae:0.265467\n",
            "[109]\tvalidation_0-mae:0.245363\tvalidation_1-mae:0.265427\n",
            "[110]\tvalidation_0-mae:0.245262\tvalidation_1-mae:0.265456\n",
            "[111]\tvalidation_0-mae:0.24517\tvalidation_1-mae:0.265485\n",
            "[112]\tvalidation_0-mae:0.245102\tvalidation_1-mae:0.265508\n",
            "[113]\tvalidation_0-mae:0.245028\tvalidation_1-mae:0.265494\n",
            "[114]\tvalidation_0-mae:0.244859\tvalidation_1-mae:0.265508\n",
            "[115]\tvalidation_0-mae:0.244666\tvalidation_1-mae:0.265514\n",
            "[116]\tvalidation_0-mae:0.24458\tvalidation_1-mae:0.265549\n",
            "[117]\tvalidation_0-mae:0.244469\tvalidation_1-mae:0.265577\n",
            "[118]\tvalidation_0-mae:0.244442\tvalidation_1-mae:0.265584\n",
            "[119]\tvalidation_0-mae:0.244302\tvalidation_1-mae:0.265598\n",
            "[120]\tvalidation_0-mae:0.244193\tvalidation_1-mae:0.265587\n",
            "[121]\tvalidation_0-mae:0.244111\tvalidation_1-mae:0.265555\n",
            "[122]\tvalidation_0-mae:0.243852\tvalidation_1-mae:0.265551\n",
            "[123]\tvalidation_0-mae:0.243801\tvalidation_1-mae:0.265556\n",
            "[124]\tvalidation_0-mae:0.243699\tvalidation_1-mae:0.265594\n",
            "[125]\tvalidation_0-mae:0.243436\tvalidation_1-mae:0.265608\n",
            "[126]\tvalidation_0-mae:0.243349\tvalidation_1-mae:0.26558\n",
            "Stopping. Best iteration:\n",
            "[101]\tvalidation_0-mae:0.246187\tvalidation_1-mae:0.265339\n",
            "\n"
          ]
        },
        {
          "output_type": "execute_result",
          "data": {
            "text/plain": [
              "XGBRegressor(eta=0.2, eval_metric='mae', max_depth=8, min_child_weight=0,\n",
              "             n_estimators=270)"
            ]
          },
          "metadata": {},
          "execution_count": 14
        }
      ]
    },
    {
      "cell_type": "code",
      "source": [
        "# Predcition\n",
        "y_predicted =  bestModel.predict(test_X)\n",
        "prediction = test_X[['eta','coverage']]\n",
        "prediction['predicted ATA'] = (prediction['eta']) / y_predicted\n",
        "prediction['ata'] = test_y['ata']\n",
        "\n",
        "prediction['error'] = abs((prediction['predicted ATA']-prediction['ata'])/(prediction['ata']))* 100\n",
        "prediction['first error'] = prediction['eta']/prediction['ata']\n",
        "prediction['target error'] = prediction['predicted ATA']/prediction['ata']\n",
        "\n",
        "prediction['error'].describe()"
      ],
      "metadata": {
        "colab": {
          "base_uri": "https://localhost:8080/"
        },
        "id": "6qgKo6bjtJ4L",
        "outputId": "1fb87ddf-98bc-42be-e740-e4db4bc06011"
      },
      "execution_count": 15,
      "outputs": [
        {
          "output_type": "execute_result",
          "data": {
            "text/plain": [
              "count    13836.000000\n",
              "mean        22.361552\n",
              "std         21.266013\n",
              "min          0.002507\n",
              "25%          7.853862\n",
              "50%         16.786107\n",
              "75%         30.260945\n",
              "max        443.803954\n",
              "Name: error, dtype: float64"
            ]
          },
          "metadata": {},
          "execution_count": 15
        }
      ]
    },
    {
      "cell_type": "code",
      "source": [
        "prediction['old error'] = abs((prediction['eta']-prediction['ata'])/(prediction['ata']))* 100\n",
        "prediction['old error'].describe()"
      ],
      "metadata": {
        "id": "pQ1yQcxp_KOy",
        "outputId": "a56b919b-84c6-4199-bafd-775bdab16db1",
        "colab": {
          "base_uri": "https://localhost:8080/"
        }
      },
      "execution_count": 23,
      "outputs": [
        {
          "output_type": "execute_result",
          "data": {
            "text/plain": [
              "count    13836.000000\n",
              "mean        32.253956\n",
              "std         40.140906\n",
              "min          0.000000\n",
              "25%          9.164048\n",
              "50%         20.205370\n",
              "75%         39.937165\n",
              "max        702.878470\n",
              "Name: old error, dtype: float64"
            ]
          },
          "metadata": {},
          "execution_count": 23
        }
      ]
    },
    {
      "cell_type": "code",
      "source": [
        "sns.set_theme(style=\"darkgrid\")\n",
        "sns.set(rc = {'figure.figsize':(13,8)})\n",
        "sns.histplot(data = prediction, x= 'first error',stat='probability',alpha=0.8,color='r',kde=True,label='First Model',binwidth=0.025)\n",
        "sns.histplot(data = prediction, x= 'target error',stat='probability',alpha=0.8,color='g',kde=True,label='Second Model',binwidth=0.025)\n",
        "plt.xlim([0,2])\n",
        "plt.legend()\n",
        "plt.xlabel('target: ETA/ATA')\n",
        "plt.title('Error Distribution')"
      ],
      "metadata": {
        "id": "ZKn7V3Z9_9TC",
        "outputId": "c022c0aa-1f1c-4fbc-a019-82b2deca51f7",
        "colab": {
          "base_uri": "https://localhost:8080/",
          "height": 536
        }
      },
      "execution_count": 31,
      "outputs": [
        {
          "output_type": "execute_result",
          "data": {
            "text/plain": [
              "Text(0.5, 1.0, 'Error Distribution')"
            ]
          },
          "metadata": {},
          "execution_count": 31
        },
        {
          "output_type": "display_data",
          "data": {
            "text/plain": [
              "<Figure size 936x576 with 1 Axes>"
            ],
            "image/png": "[encoded data removed]"
          },
          "metadata": {}
        }
      ]
    },
    {
      "cell_type": "code",
      "source": [
        "sns.set_theme(style=\"darkgrid\")\n",
        "sns.set(rc = {'figure.figsize':(13,8)})\n",
        "sns.histplot(data = prediction, x= 'first error',stat='probability',alpha=0.8,color='r',kde=True,label='First Model',binwidth=0.025)\n",
        "sns.histplot(data = prediction, x= 'target error',stat='probability',alpha=0.8,color='g',kde=True,label='Second Model',binwidth=0.025)\n",
        "plt.xlim([0,5])\n",
        "plt.legend()\n",
        "plt.xlabel('target: ETA/ATA')\n",
        "plt.title('Error Distribution')"
      ],
      "metadata": {
        "id": "jkS32mu-ATg5",
        "outputId": "9a116191-adcc-42d4-994e-6362fc8e4849",
        "colab": {
          "base_uri": "https://localhost:8080/",
          "height": 536
        }
      },
      "execution_count": 34,
      "outputs": [
        {
          "output_type": "execute_result",
          "data": {
            "text/plain": [
              "Text(0.5, 1.0, 'Error Distribution')"
            ]
          },
          "metadata": {},
          "execution_count": 34
        },
        {
          "output_type": "display_data",
          "data": {
            "text/plain": [
              "<Figure size 936x576 with 1 Axes>"
            ],
            "image/png": "[encoded data removed]"
          },
          "metadata": {}
        }
      ]
    },
    {
      "cell_type": "markdown",
      "source": [
        "Test Data Prediction"
      ],
      "metadata": {
        "id": "YgHzG6Y6ZWwl"
      }
    },
    {
      "cell_type": "code",
      "source": [
        "\n",
        "y_test_predicted = bestModel.predict(features_test)\n",
        "y_test_final_prediction = features_test['eta']/y_test_predicted\n",
        "y_test_final_prediction\n",
        "np.savetxt(\"prediction.csv\", np.array(y_test_final_prediction), delimiter=\",\")\n"
      ],
      "metadata": {
        "id": "pv_ODIGoZWOx"
      },
      "execution_count": null,
      "outputs": []
    },
    {
      "cell_type": "code",
      "source": [
        "prediction.head(10)"
      ],
      "metadata": {
        "colab": {
          "base_uri": "https://localhost:8080/",
          "height": 363
        },
        "id": "uzO4u0st2Q5k",
        "outputId": "2b1997cd-b1fe-4200-ced3-df24c628482a"
      },
      "execution_count": null,
      "outputs": [
        {
          "output_type": "execute_result",
          "data": {
            "text/plain": [
              "           eta  coverage  predicted ATA     ata      error  first error  \\\n",
              "84957    7.086  0.868339       6.288135   5.000  25.762698     1.417200   \n",
              "55733    4.551  0.906148       5.565920   5.003  11.251645     0.909654   \n",
              "79264   23.566  0.991167      17.055538  23.006  25.864825     1.024341   \n",
              "6120    49.630  0.997534      45.746548  39.492  15.837506     1.256710   \n",
              "80472   42.968  0.995139      40.196125  38.991   3.090778     1.101998   \n",
              "108015  10.028  0.915452       8.568072  46.001  81.374162     0.217995   \n",
              "116989  22.235  0.949693      21.458293  20.007   7.253927     1.111361   \n",
              "86709    7.495  0.867817       6.892591   9.996  31.046508     0.749800   \n",
              "66844   15.030  0.970077      15.089292  18.512  18.489134     0.811906   \n",
              "54623   19.196  0.954958      17.139928  21.506  20.301647     0.892588   \n",
              "\n",
              "        target error  \n",
              "84957       1.257627  \n",
              "55733       1.112516  \n",
              "79264       0.741352  \n",
              "6120        1.158375  \n",
              "80472       1.030908  \n",
              "108015      0.186258  \n",
              "116989      1.072539  \n",
              "86709       0.689535  \n",
              "66844       0.815109  \n",
              "54623       0.796984  "
            ],
            "text/html": [
              "\n",
              "  <div id=\"df-fbbe5ab5-c029-42c2-a4a4-5c6fc26a15ff\">\n",
              "    <div class=\"colab-df-container\">\n",
              "      <div>\n",
              "<style scoped>\n",
              "    .dataframe tbody tr th:only-of-type {\n",
              "        vertical-align: middle;\n",
              "    }\n",
              "\n",
              "    .dataframe tbody tr th {\n",
              "        vertical-align: top;\n",
              "    }\n",
              "\n",
              "    .dataframe thead th {\n",
              "        text-align: right;\n",
              "    }\n",
              "</style>\n",
              "<table border=\"1\" class=\"dataframe\">\n",
              "  <thead>\n",
              "    <tr style=\"text-align: right;\">\n",
              "      <th></th>\n",
              "      <th>eta</th>\n",
              "      <th>coverage</th>\n",
              "      <th>predicted ATA</th>\n",
              "      <th>ata</th>\n",
              "      <th>error</th>\n",
              "      <th>first error</th>\n",
              "      <th>target error</th>\n",
              "    </tr>\n",
              "  </thead>\n",
              "  <tbody>\n",
              "    <tr>\n",
              "      <th>84957</th>\n",
              "      <td>7.086</td>\n",
              "      <td>0.868339</td>\n",
              "      <td>6.288135</td>\n",
              "      <td>5.000</td>\n",
              "      <td>25.762698</td>\n",
              "      <td>1.417200</td>\n",
              "      <td>1.257627</td>\n",
              "    </tr>\n",
              "    <tr>\n",
              "      <th>55733</th>\n",
              "      <td>4.551</td>\n",
              "      <td>0.906148</td>\n",
              "      <td>5.565920</td>\n",
              "      <td>5.003</td>\n",
              "      <td>11.251645</td>\n",
              "      <td>0.909654</td>\n",
              "      <td>1.112516</td>\n",
              "    </tr>\n",
              "    <tr>\n",
              "      <th>79264</th>\n",
              "      <td>23.566</td>\n",
              "      <td>0.991167</td>\n",
              "      <td>17.055538</td>\n",
              "      <td>23.006</td>\n",
              "      <td>25.864825</td>\n",
              "      <td>1.024341</td>\n",
              "      <td>0.741352</td>\n",
              "    </tr>\n",
              "    <tr>\n",
              "      <th>6120</th>\n",
              "      <td>49.630</td>\n",
              "      <td>0.997534</td>\n",
              "      <td>45.746548</td>\n",
              "      <td>39.492</td>\n",
              "      <td>15.837506</td>\n",
              "      <td>1.256710</td>\n",
              "      <td>1.158375</td>\n",
              "    </tr>\n",
              "    <tr>\n",
              "      <th>80472</th>\n",
              "      <td>42.968</td>\n",
              "      <td>0.995139</td>\n",
              "      <td>40.196125</td>\n",
              "      <td>38.991</td>\n",
              "      <td>3.090778</td>\n",
              "      <td>1.101998</td>\n",
              "      <td>1.030908</td>\n",
              "    </tr>\n",
              "    <tr>\n",
              "      <th>108015</th>\n",
              "      <td>10.028</td>\n",
              "      <td>0.915452</td>\n",
              "      <td>8.568072</td>\n",
              "      <td>46.001</td>\n",
              "      <td>81.374162</td>\n",
              "      <td>0.217995</td>\n",
              "      <td>0.186258</td>\n",
              "    </tr>\n",
              "    <tr>\n",
              "      <th>116989</th>\n",
              "      <td>22.235</td>\n",
              "      <td>0.949693</td>\n",
              "      <td>21.458293</td>\n",
              "      <td>20.007</td>\n",
              "      <td>7.253927</td>\n",
              "      <td>1.111361</td>\n",
              "      <td>1.072539</td>\n",
              "    </tr>\n",
              "    <tr>\n",
              "      <th>86709</th>\n",
              "      <td>7.495</td>\n",
              "      <td>0.867817</td>\n",
              "      <td>6.892591</td>\n",
              "      <td>9.996</td>\n",
              "      <td>31.046508</td>\n",
              "      <td>0.749800</td>\n",
              "      <td>0.689535</td>\n",
              "    </tr>\n",
              "    <tr>\n",
              "      <th>66844</th>\n",
              "      <td>15.030</td>\n",
              "      <td>0.970077</td>\n",
              "      <td>15.089292</td>\n",
              "      <td>18.512</td>\n",
              "      <td>18.489134</td>\n",
              "      <td>0.811906</td>\n",
              "      <td>0.815109</td>\n",
              "    </tr>\n",
              "    <tr>\n",
              "      <th>54623</th>\n",
              "      <td>19.196</td>\n",
              "      <td>0.954958</td>\n",
              "      <td>17.139928</td>\n",
              "      <td>21.506</td>\n",
              "      <td>20.301647</td>\n",
              "      <td>0.892588</td>\n",
              "      <td>0.796984</td>\n",
              "    </tr>\n",
              "  </tbody>\n",
              "</table>\n",
              "</div>\n",
              "      <button class=\"colab-df-convert\" onclick=\"convertToInteractive('df-fbbe5ab5-c029-42c2-a4a4-5c6fc26a15ff')\"\n",
              "              title=\"Convert this dataframe to an interactive table.\"\n",
              "              style=\"display:none;\">\n",
              "        \n",
              "  <svg xmlns=\"http://www.w3.org/2000/svg\" height=\"24px\"viewBox=\"0 0 24 24\"\n",
              "       width=\"24px\">\n",
              "    <path d=\"M0 0h24v24H0V0z\" fill=\"none\"/>\n",
              "    <path d=\"M18.56 5.44l.94 2.06.94-2.06 2.06-.94-2.06-.94-.94-2.06-.94 2.06-2.06.94zm-11 1L8.5 8.5l.94-2.06 2.06-.94-2.06-.94L8.5 2.5l-.94 2.06-2.06.94zm10 10l.94 2.06.94-2.06 2.06-.94-2.06-.94-.94-2.06-.94 2.06-2.06.94z\"/><path d=\"M17.41 7.96l-1.37-1.37c-.4-.4-.92-.59-1.43-.59-.52 0-1.04.2-1.43.59L10.3 9.45l-7.72 7.72c-.78.78-.78 2.05 0 2.83L4 21.41c.39.39.9.59 1.41.59.51 0 1.02-.2 1.41-.59l7.78-7.78 2.81-2.81c.8-.78.8-2.07 0-2.86zM5.41 20L4 18.59l7.72-7.72 1.47 1.35L5.41 20z\"/>\n",
              "  </svg>\n",
              "      </button>\n",
              "      \n",
              "  <style>\n",
              "    .colab-df-container {\n",
              "      display:flex;\n",
              "      flex-wrap:wrap;\n",
              "      gap: 12px;\n",
              "    }\n",
              "\n",
              "    .colab-df-convert {\n",
              "      background-color: #E8F0FE;\n",
              "      border: none;\n",
              "      border-radius: 50%;\n",
              "      cursor: pointer;\n",
              "      display: none;\n",
              "      fill: #1967D2;\n",
              "      height: 32px;\n",
              "      padding: 0 0 0 0;\n",
              "      width: 32px;\n",
              "    }\n",
              "\n",
              "    .colab-df-convert:hover {\n",
              "      background-color: #E2EBFA;\n",
              "      box-shadow: 0px 1px 2px rgba(60, 64, 67, 0.3), 0px 1px 3px 1px rgba(60, 64, 67, 0.15);\n",
              "      fill: #174EA6;\n",
              "    }\n",
              "\n",
              "    [theme=dark] .colab-df-convert {\n",
              "      background-color: #3B4455;\n",
              "      fill: #D2E3FC;\n",
              "    }\n",
              "\n",
              "    [theme=dark] .colab-df-convert:hover {\n",
              "      background-color: #434B5C;\n",
              "      box-shadow: 0px 1px 3px 1px rgba(0, 0, 0, 0.15);\n",
              "      filter: drop-shadow(0px 1px 2px rgba(0, 0, 0, 0.3));\n",
              "      fill: #FFFFFF;\n",
              "    }\n",
              "  </style>\n",
              "\n",
              "      <script>\n",
              "        const buttonEl =\n",
              "          document.querySelector('#df-fbbe5ab5-c029-42c2-a4a4-5c6fc26a15ff button.colab-df-convert');\n",
              "        buttonEl.style.display =\n",
              "          google.colab.kernel.accessAllowed ? 'block' : 'none';\n",
              "\n",
              "        async function convertToInteractive(key) {\n",
              "          const element = document.querySelector('#df-fbbe5ab5-c029-42c2-a4a4-5c6fc26a15ff');\n",
              "          const dataTable =\n",
              "            await google.colab.kernel.invokeFunction('convertToInteractive',\n",
              "                                                     [key], {});\n",
              "          if (!dataTable) return;\n",
              "\n",
              "          const docLinkHtml = 'Like what you see? Visit the ' +\n",
              "            '<a target=\"_blank\" href=https://colab.research.google.com/notebooks/data_table.ipynb>data table notebook</a>'\n",
              "            + ' to learn more about interactive tables.';\n",
              "          element.innerHTML = '';\n",
              "          dataTable['output_type'] = 'display_data';\n",
              "          await google.colab.output.renderOutput(dataTable, element);\n",
              "          const docLink = document.createElement('div');\n",
              "          docLink.innerHTML = docLinkHtml;\n",
              "          element.appendChild(docLink);\n",
              "        }\n",
              "      </script>\n",
              "    </div>\n",
              "  </div>\n",
              "  "
            ]
          },
          "metadata": {},
          "execution_count": 85
        }
      ]
    },
    {
      "cell_type": "markdown",
      "source": [
        "# **Model Explanation**"
      ],
      "metadata": {
        "id": "Z3Nsi94bAoAq"
      }
    },
    {
      "cell_type": "markdown",
      "source": [
        ""
      ],
      "metadata": {
        "id": "PDOe0In4q4qO"
      }
    },
    {
      "cell_type": "markdown",
      "source": [
        "Shap Value [Source](https://www.kaggle.com/code/bryanb/xgboost-explainability-with-shap/notebook):"
      ],
      "metadata": {
        "id": "EveakxpQE-yD"
      }
    },
    {
      "cell_type": "code",
      "source": [
        "Xd = test_X[['length','eta','latitude','longitude','timeOfDay','coverage','way_type','dayOfWeek']]\n",
        "Xd['target'] = test_y['target']"
      ],
      "metadata": {
        "id": "_pfXF4XbDKrU"
      },
      "execution_count": null,
      "outputs": []
    },
    {
      "cell_type": "code",
      "source": [
        "test_X"
      ],
      "metadata": {
        "colab": {
          "base_uri": "https://localhost:8080/",
          "height": 423
        },
        "id": "godXFYBgBVTj",
        "outputId": "25e881ea-1de2-4123-b9ba-d7b60f9a842c"
      },
      "execution_count": null,
      "outputs": [
        {
          "output_type": "execute_result",
          "data": {
            "text/plain": [
              "         length     eta   latitude  longitude  timeOfDay  coverage  way_type  \\\n",
              "84957    96.457   7.086  32.350505  50.856205       4.30  0.868339         3   \n",
              "55733    22.755   4.551  35.689070  51.443260       9.08  0.906148         7   \n",
              "79264   130.924  23.566  29.607529  52.559759       8.77  0.991167        10   \n",
              "6120    272.364  49.630  35.721301  51.361450       9.12  0.997534         7   \n",
              "80472   249.783  42.968  35.816026  50.935961       8.58  0.995139         3   \n",
              "...         ...     ...        ...        ...        ...       ...       ...   \n",
              "95460    72.493   7.908  35.692107  51.259283       5.02  0.889202         3   \n",
              "44115    63.036   7.564  36.364947  59.473256       7.07  0.920899         6   \n",
              "96327   173.107  15.579  36.300866  49.995521       4.82  0.975855         7   \n",
              "16034    38.530   5.334  32.685234  51.528375       8.77  0.938290         7   \n",
              "112744  211.288  32.354  35.682608  50.995588      14.17  0.927339         7   \n",
              "\n",
              "        dayOfWeek  \n",
              "84957           7  \n",
              "55733           6  \n",
              "79264           4  \n",
              "6120            2  \n",
              "80472           3  \n",
              "...           ...  \n",
              "95460           5  \n",
              "44115           4  \n",
              "96327           1  \n",
              "16034           7  \n",
              "112744          4  \n",
              "\n",
              "[13545 rows x 8 columns]"
            ],
            "text/html": [
              "\n",
              "  <div id=\"df-bec2b8a3-9b07-418e-a1f3-3531838c092d\">\n",
              "    <div class=\"colab-df-container\">\n",
              "      <div>\n",
              "<style scoped>\n",
              "    .dataframe tbody tr th:only-of-type {\n",
              "        vertical-align: middle;\n",
              "    }\n",
              "\n",
              "    .dataframe tbody tr th {\n",
              "        vertical-align: top;\n",
              "    }\n",
              "\n",
              "    .dataframe thead th {\n",
              "        text-align: right;\n",
              "    }\n",
              "</style>\n",
              "<table border=\"1\" class=\"dataframe\">\n",
              "  <thead>\n",
              "    <tr style=\"text-align: right;\">\n",
              "      <th></th>\n",
              "      <th>length</th>\n",
              "      <th>eta</th>\n",
              "      <th>latitude</th>\n",
              "      <th>longitude</th>\n",
              "      <th>timeOfDay</th>\n",
              "      <th>coverage</th>\n",
              "      <th>way_type</th>\n",
              "      <th>dayOfWeek</th>\n",
              "    </tr>\n",
              "  </thead>\n",
              "  <tbody>\n",
              "    <tr>\n",
              "      <th>84957</th>\n",
              "      <td>96.457</td>\n",
              "      <td>7.086</td>\n",
              "      <td>32.350505</td>\n",
              "      <td>50.856205</td>\n",
              "      <td>4.30</td>\n",
              "      <td>0.868339</td>\n",
              "      <td>3</td>\n",
              "      <td>7</td>\n",
              "    </tr>\n",
              "    <tr>\n",
              "      <th>55733</th>\n",
              "      <td>22.755</td>\n",
              "      <td>4.551</td>\n",
              "      <td>35.689070</td>\n",
              "      <td>51.443260</td>\n",
              "      <td>9.08</td>\n",
              "      <td>0.906148</td>\n",
              "      <td>7</td>\n",
              "      <td>6</td>\n",
              "    </tr>\n",
              "    <tr>\n",
              "      <th>79264</th>\n",
              "      <td>130.924</td>\n",
              "      <td>23.566</td>\n",
              "      <td>29.607529</td>\n",
              "      <td>52.559759</td>\n",
              "      <td>8.77</td>\n",
              "      <td>0.991167</td>\n",
              "      <td>10</td>\n",
              "      <td>4</td>\n",
              "    </tr>\n",
              "    <tr>\n",
              "      <th>6120</th>\n",
              "      <td>272.364</td>\n",
              "      <td>49.630</td>\n",
              "      <td>35.721301</td>\n",
              "      <td>51.361450</td>\n",
              "      <td>9.12</td>\n",
              "      <td>0.997534</td>\n",
              "      <td>7</td>\n",
              "      <td>2</td>\n",
              "    </tr>\n",
              "    <tr>\n",
              "      <th>80472</th>\n",
              "      <td>249.783</td>\n",
              "      <td>42.968</td>\n",
              "      <td>35.816026</td>\n",
              "      <td>50.935961</td>\n",
              "      <td>8.58</td>\n",
              "      <td>0.995139</td>\n",
              "      <td>3</td>\n",
              "      <td>3</td>\n",
              "    </tr>\n",
              "    <tr>\n",
              "      <th>...</th>\n",
              "      <td>...</td>\n",
              "      <td>...</td>\n",
              "      <td>...</td>\n",
              "      <td>...</td>\n",
              "      <td>...</td>\n",
              "      <td>...</td>\n",
              "      <td>...</td>\n",
              "      <td>...</td>\n",
              "    </tr>\n",
              "    <tr>\n",
              "      <th>95460</th>\n",
              "      <td>72.493</td>\n",
              "      <td>7.908</td>\n",
              "      <td>35.692107</td>\n",
              "      <td>51.259283</td>\n",
              "      <td>5.02</td>\n",
              "      <td>0.889202</td>\n",
              "      <td>3</td>\n",
              "      <td>5</td>\n",
              "    </tr>\n",
              "    <tr>\n",
              "      <th>44115</th>\n",
              "      <td>63.036</td>\n",
              "      <td>7.564</td>\n",
              "      <td>36.364947</td>\n",
              "      <td>59.473256</td>\n",
              "      <td>7.07</td>\n",
              "      <td>0.920899</td>\n",
              "      <td>6</td>\n",
              "      <td>4</td>\n",
              "    </tr>\n",
              "    <tr>\n",
              "      <th>96327</th>\n",
              "      <td>173.107</td>\n",
              "      <td>15.579</td>\n",
              "      <td>36.300866</td>\n",
              "      <td>49.995521</td>\n",
              "      <td>4.82</td>\n",
              "      <td>0.975855</td>\n",
              "      <td>7</td>\n",
              "      <td>1</td>\n",
              "    </tr>\n",
              "    <tr>\n",
              "      <th>16034</th>\n",
              "      <td>38.530</td>\n",
              "      <td>5.334</td>\n",
              "      <td>32.685234</td>\n",
              "      <td>51.528375</td>\n",
              "      <td>8.77</td>\n",
              "      <td>0.938290</td>\n",
              "      <td>7</td>\n",
              "      <td>7</td>\n",
              "    </tr>\n",
              "    <tr>\n",
              "      <th>112744</th>\n",
              "      <td>211.288</td>\n",
              "      <td>32.354</td>\n",
              "      <td>35.682608</td>\n",
              "      <td>50.995588</td>\n",
              "      <td>14.17</td>\n",
              "      <td>0.927339</td>\n",
              "      <td>7</td>\n",
              "      <td>4</td>\n",
              "    </tr>\n",
              "  </tbody>\n",
              "</table>\n",
              "<p>13545 rows × 8 columns</p>\n",
              "</div>\n",
              "      <button class=\"colab-df-convert\" onclick=\"convertToInteractive('df-bec2b8a3-9b07-418e-a1f3-3531838c092d')\"\n",
              "              title=\"Convert this dataframe to an interactive table.\"\n",
              "              style=\"display:none;\">\n",
              "        \n",
              "  <svg xmlns=\"http://www.w3.org/2000/svg\" height=\"24px\"viewBox=\"0 0 24 24\"\n",
              "       width=\"24px\">\n",
              "    <path d=\"M0 0h24v24H0V0z\" fill=\"none\"/>\n",
              "    <path d=\"M18.56 5.44l.94 2.06.94-2.06 2.06-.94-2.06-.94-.94-2.06-.94 2.06-2.06.94zm-11 1L8.5 8.5l.94-2.06 2.06-.94-2.06-.94L8.5 2.5l-.94 2.06-2.06.94zm10 10l.94 2.06.94-2.06 2.06-.94-2.06-.94-.94-2.06-.94 2.06-2.06.94z\"/><path d=\"M17.41 7.96l-1.37-1.37c-.4-.4-.92-.59-1.43-.59-.52 0-1.04.2-1.43.59L10.3 9.45l-7.72 7.72c-.78.78-.78 2.05 0 2.83L4 21.41c.39.39.9.59 1.41.59.51 0 1.02-.2 1.41-.59l7.78-7.78 2.81-2.81c.8-.78.8-2.07 0-2.86zM5.41 20L4 18.59l7.72-7.72 1.47 1.35L5.41 20z\"/>\n",
              "  </svg>\n",
              "      </button>\n",
              "      \n",
              "  <style>\n",
              "    .colab-df-container {\n",
              "      display:flex;\n",
              "      flex-wrap:wrap;\n",
              "      gap: 12px;\n",
              "    }\n",
              "\n",
              "    .colab-df-convert {\n",
              "      background-color: #E8F0FE;\n",
              "      border: none;\n",
              "      border-radius: 50%;\n",
              "      cursor: pointer;\n",
              "      display: none;\n",
              "      fill: #1967D2;\n",
              "      height: 32px;\n",
              "      padding: 0 0 0 0;\n",
              "      width: 32px;\n",
              "    }\n",
              "\n",
              "    .colab-df-convert:hover {\n",
              "      background-color: #E2EBFA;\n",
              "      box-shadow: 0px 1px 2px rgba(60, 64, 67, 0.3), 0px 1px 3px 1px rgba(60, 64, 67, 0.15);\n",
              "      fill: #174EA6;\n",
              "    }\n",
              "\n",
              "    [theme=dark] .colab-df-convert {\n",
              "      background-color: #3B4455;\n",
              "      fill: #D2E3FC;\n",
              "    }\n",
              "\n",
              "    [theme=dark] .colab-df-convert:hover {\n",
              "      background-color: #434B5C;\n",
              "      box-shadow: 0px 1px 3px 1px rgba(0, 0, 0, 0.15);\n",
              "      filter: drop-shadow(0px 1px 2px rgba(0, 0, 0, 0.3));\n",
              "      fill: #FFFFFF;\n",
              "    }\n",
              "  </style>\n",
              "\n",
              "      <script>\n",
              "        const buttonEl =\n",
              "          document.querySelector('#df-bec2b8a3-9b07-418e-a1f3-3531838c092d button.colab-df-convert');\n",
              "        buttonEl.style.display =\n",
              "          google.colab.kernel.accessAllowed ? 'block' : 'none';\n",
              "\n",
              "        async function convertToInteractive(key) {\n",
              "          const element = document.querySelector('#df-bec2b8a3-9b07-418e-a1f3-3531838c092d');\n",
              "          const dataTable =\n",
              "            await google.colab.kernel.invokeFunction('convertToInteractive',\n",
              "                                                     [key], {});\n",
              "          if (!dataTable) return;\n",
              "\n",
              "          const docLinkHtml = 'Like what you see? Visit the ' +\n",
              "            '<a target=\"_blank\" href=https://colab.research.google.com/notebooks/data_table.ipynb>data table notebook</a>'\n",
              "            + ' to learn more about interactive tables.';\n",
              "          element.innerHTML = '';\n",
              "          dataTable['output_type'] = 'display_data';\n",
              "          await google.colab.output.renderOutput(dataTable, element);\n",
              "          const docLink = document.createElement('div');\n",
              "          docLink.innerHTML = docLinkHtml;\n",
              "          element.appendChild(docLink);\n",
              "        }\n",
              "      </script>\n",
              "    </div>\n",
              "  </div>\n",
              "  "
            ]
          },
          "metadata": {},
          "execution_count": 86
        }
      ]
    },
    {
      "cell_type": "code",
      "source": [
        "!pip install shap "
      ],
      "metadata": {
        "id": "_2HgSq2-AlLF"
      },
      "execution_count": null,
      "outputs": []
    },
    {
      "cell_type": "code",
      "source": [
        "import shap\n",
        "X_sampled = test_X\n",
        "explainer = shap.TreeExplainer(bestModel)\n",
        "shap_values = explainer.shap_values(X_sampled)\n",
        "shap.summary_plot(shap_values, X_sampled)\n"
      ],
      "metadata": {
        "colab": {
          "base_uri": "https://localhost:8080/",
          "height": 327
        },
        "id": "5tpOp0AHAYQN",
        "outputId": "1ef63531-26c7-4fe4-db36-66149287b321"
      },
      "execution_count": null,
      "outputs": [
        {
          "output_type": "display_data",
          "data": {
            "text/plain": [
              "<Figure size 576x338.4 with 2 Axes>"
            ],
            "image/png": "[encoded data removed]"
          },
          "metadata": {}
        }
      ]
    },
    {
      "cell_type": "code",
      "source": [
        "shap.summary_plot(shap_values, X_sampled, plot_type=\"bar\")"
      ],
      "metadata": {
        "colab": {
          "base_uri": "https://localhost:8080/",
          "height": 323
        },
        "id": "dNlSmOgbE5Nn",
        "outputId": "900db8ee-1310-41f8-9422-03f3e983fe24"
      },
      "execution_count": null,
      "outputs": [
        {
          "output_type": "display_data",
          "data": {
            "text/plain": [
              "<Figure size 576x338.4 with 1 Axes>"
            ],
            "image/png": "[encoded data removed]"
          },
          "metadata": {}
        }
      ]
    }
  ]
}